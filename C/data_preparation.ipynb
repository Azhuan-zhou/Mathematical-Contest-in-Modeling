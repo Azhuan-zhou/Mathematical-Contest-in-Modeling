{
 "cells": [
  {
   "cell_type": "code",
   "execution_count": 1,
   "outputs": [],
   "source": [
    "import pandas as pd\n",
    "import numpy as np"
   ],
   "metadata": {
    "collapsed": false,
    "pycharm": {
     "name": "#%%\n"
    }
   }
  },
  {
   "cell_type": "code",
   "execution_count": 52,
   "outputs": [],
   "source": [
    "data_raw = pd.read_csv('2023 w/Wimbledon_final_women.csv')"
   ],
   "metadata": {
    "collapsed": false,
    "pycharm": {
     "name": "#%%\n"
    }
   }
  },
  {
   "cell_type": "code",
   "execution_count": 53,
   "outputs": [
    {
     "data": {
      "text/plain": "          set_no     game_no    point_no  p1_sets  p2_sets    p1_games  \\\ncount  125.00000  125.000000  125.000000      0.0      0.0  125.000000   \nmean     1.48000    5.008000   63.000000      NaN      NaN    1.816000   \nstd      0.50161    2.783871   36.228442      NaN      NaN    1.608365   \nmin      1.00000    1.000000    1.000000      NaN      NaN    0.000000   \n25%      1.00000    3.000000   32.000000      NaN      NaN    1.000000   \n50%      1.00000    4.000000   63.000000      NaN      NaN    1.000000   \n75%      2.00000    7.000000   94.000000      NaN      NaN    3.000000   \nmax      2.00000   10.000000  125.000000      NaN      NaN    6.000000   \n\n       p2_games     server  serve_no  point_victor  ...  p2_break_pt_won  \\\ncount  125.0000  125.00000       0.0    125.000000  ...       125.000000   \nmean     2.3520    1.48000       NaN      1.456000  ...         0.032000   \nstd      1.3927    0.50161       NaN      0.500065  ...         0.176708   \nmin      0.0000    1.00000       NaN      1.000000  ...         0.000000   \n25%      2.0000    1.00000       NaN      1.000000  ...         0.000000   \n50%      2.0000    1.00000       NaN      1.000000  ...         0.000000   \n75%      4.0000    2.00000       NaN      2.000000  ...         0.000000   \nmax      4.0000    2.00000       NaN      2.000000  ...         1.000000   \n\n       p1_break_pt_missed  p2_break_pt_missed  p1_distance_run  \\\ncount                 0.0                 0.0              0.0   \nmean                  NaN                 NaN              NaN   \nstd                   NaN                 NaN              NaN   \nmin                   NaN                 NaN              NaN   \n25%                   NaN                 NaN              NaN   \n50%                   NaN                 NaN              NaN   \n75%                   NaN                 NaN              NaN   \nmax                   NaN                 NaN              NaN   \n\n       p2_distance_run  rally_count  speed_mph  serve_width  serve_depth  \\\ncount              0.0          0.0        0.0          0.0          0.0   \nmean               NaN          NaN        NaN          NaN          NaN   \nstd                NaN          NaN        NaN          NaN          NaN   \nmin                NaN          NaN        NaN          NaN          NaN   \n25%                NaN          NaN        NaN          NaN          NaN   \n50%                NaN          NaN        NaN          NaN          NaN   \n75%                NaN          NaN        NaN          NaN          NaN   \nmax                NaN          NaN        NaN          NaN          NaN   \n\n       return_depth  \ncount           0.0  \nmean            NaN  \nstd             NaN  \nmin             NaN  \n25%             NaN  \n50%             NaN  \n75%             NaN  \nmax             NaN  \n\n[8 rows x 40 columns]",
      "text/html": "<div>\n<style scoped>\n    .dataframe tbody tr th:only-of-type {\n        vertical-align: middle;\n    }\n\n    .dataframe tbody tr th {\n        vertical-align: top;\n    }\n\n    .dataframe thead th {\n        text-align: right;\n    }\n</style>\n<table border=\"1\" class=\"dataframe\">\n  <thead>\n    <tr style=\"text-align: right;\">\n      <th></th>\n      <th>set_no</th>\n      <th>game_no</th>\n      <th>point_no</th>\n      <th>p1_sets</th>\n      <th>p2_sets</th>\n      <th>p1_games</th>\n      <th>p2_games</th>\n      <th>server</th>\n      <th>serve_no</th>\n      <th>point_victor</th>\n      <th>...</th>\n      <th>p2_break_pt_won</th>\n      <th>p1_break_pt_missed</th>\n      <th>p2_break_pt_missed</th>\n      <th>p1_distance_run</th>\n      <th>p2_distance_run</th>\n      <th>rally_count</th>\n      <th>speed_mph</th>\n      <th>serve_width</th>\n      <th>serve_depth</th>\n      <th>return_depth</th>\n    </tr>\n  </thead>\n  <tbody>\n    <tr>\n      <th>count</th>\n      <td>125.00000</td>\n      <td>125.000000</td>\n      <td>125.000000</td>\n      <td>0.0</td>\n      <td>0.0</td>\n      <td>125.000000</td>\n      <td>125.0000</td>\n      <td>125.00000</td>\n      <td>0.0</td>\n      <td>125.000000</td>\n      <td>...</td>\n      <td>125.000000</td>\n      <td>0.0</td>\n      <td>0.0</td>\n      <td>0.0</td>\n      <td>0.0</td>\n      <td>0.0</td>\n      <td>0.0</td>\n      <td>0.0</td>\n      <td>0.0</td>\n      <td>0.0</td>\n    </tr>\n    <tr>\n      <th>mean</th>\n      <td>1.48000</td>\n      <td>5.008000</td>\n      <td>63.000000</td>\n      <td>NaN</td>\n      <td>NaN</td>\n      <td>1.816000</td>\n      <td>2.3520</td>\n      <td>1.48000</td>\n      <td>NaN</td>\n      <td>1.456000</td>\n      <td>...</td>\n      <td>0.032000</td>\n      <td>NaN</td>\n      <td>NaN</td>\n      <td>NaN</td>\n      <td>NaN</td>\n      <td>NaN</td>\n      <td>NaN</td>\n      <td>NaN</td>\n      <td>NaN</td>\n      <td>NaN</td>\n    </tr>\n    <tr>\n      <th>std</th>\n      <td>0.50161</td>\n      <td>2.783871</td>\n      <td>36.228442</td>\n      <td>NaN</td>\n      <td>NaN</td>\n      <td>1.608365</td>\n      <td>1.3927</td>\n      <td>0.50161</td>\n      <td>NaN</td>\n      <td>0.500065</td>\n      <td>...</td>\n      <td>0.176708</td>\n      <td>NaN</td>\n      <td>NaN</td>\n      <td>NaN</td>\n      <td>NaN</td>\n      <td>NaN</td>\n      <td>NaN</td>\n      <td>NaN</td>\n      <td>NaN</td>\n      <td>NaN</td>\n    </tr>\n    <tr>\n      <th>min</th>\n      <td>1.00000</td>\n      <td>1.000000</td>\n      <td>1.000000</td>\n      <td>NaN</td>\n      <td>NaN</td>\n      <td>0.000000</td>\n      <td>0.0000</td>\n      <td>1.00000</td>\n      <td>NaN</td>\n      <td>1.000000</td>\n      <td>...</td>\n      <td>0.000000</td>\n      <td>NaN</td>\n      <td>NaN</td>\n      <td>NaN</td>\n      <td>NaN</td>\n      <td>NaN</td>\n      <td>NaN</td>\n      <td>NaN</td>\n      <td>NaN</td>\n      <td>NaN</td>\n    </tr>\n    <tr>\n      <th>25%</th>\n      <td>1.00000</td>\n      <td>3.000000</td>\n      <td>32.000000</td>\n      <td>NaN</td>\n      <td>NaN</td>\n      <td>1.000000</td>\n      <td>2.0000</td>\n      <td>1.00000</td>\n      <td>NaN</td>\n      <td>1.000000</td>\n      <td>...</td>\n      <td>0.000000</td>\n      <td>NaN</td>\n      <td>NaN</td>\n      <td>NaN</td>\n      <td>NaN</td>\n      <td>NaN</td>\n      <td>NaN</td>\n      <td>NaN</td>\n      <td>NaN</td>\n      <td>NaN</td>\n    </tr>\n    <tr>\n      <th>50%</th>\n      <td>1.00000</td>\n      <td>4.000000</td>\n      <td>63.000000</td>\n      <td>NaN</td>\n      <td>NaN</td>\n      <td>1.000000</td>\n      <td>2.0000</td>\n      <td>1.00000</td>\n      <td>NaN</td>\n      <td>1.000000</td>\n      <td>...</td>\n      <td>0.000000</td>\n      <td>NaN</td>\n      <td>NaN</td>\n      <td>NaN</td>\n      <td>NaN</td>\n      <td>NaN</td>\n      <td>NaN</td>\n      <td>NaN</td>\n      <td>NaN</td>\n      <td>NaN</td>\n    </tr>\n    <tr>\n      <th>75%</th>\n      <td>2.00000</td>\n      <td>7.000000</td>\n      <td>94.000000</td>\n      <td>NaN</td>\n      <td>NaN</td>\n      <td>3.000000</td>\n      <td>4.0000</td>\n      <td>2.00000</td>\n      <td>NaN</td>\n      <td>2.000000</td>\n      <td>...</td>\n      <td>0.000000</td>\n      <td>NaN</td>\n      <td>NaN</td>\n      <td>NaN</td>\n      <td>NaN</td>\n      <td>NaN</td>\n      <td>NaN</td>\n      <td>NaN</td>\n      <td>NaN</td>\n      <td>NaN</td>\n    </tr>\n    <tr>\n      <th>max</th>\n      <td>2.00000</td>\n      <td>10.000000</td>\n      <td>125.000000</td>\n      <td>NaN</td>\n      <td>NaN</td>\n      <td>6.000000</td>\n      <td>4.0000</td>\n      <td>2.00000</td>\n      <td>NaN</td>\n      <td>2.000000</td>\n      <td>...</td>\n      <td>1.000000</td>\n      <td>NaN</td>\n      <td>NaN</td>\n      <td>NaN</td>\n      <td>NaN</td>\n      <td>NaN</td>\n      <td>NaN</td>\n      <td>NaN</td>\n      <td>NaN</td>\n      <td>NaN</td>\n    </tr>\n  </tbody>\n</table>\n<p>8 rows × 40 columns</p>\n</div>"
     },
     "execution_count": 53,
     "metadata": {},
     "output_type": "execute_result"
    }
   ],
   "source": [
    "data_raw.describe()"
   ],
   "metadata": {
    "collapsed": false,
    "pycharm": {
     "name": "#%%\n"
    }
   }
  },
  {
   "cell_type": "code",
   "execution_count": 54,
   "outputs": [
    {
     "data": {
      "text/plain": "              match_id              player1     player2 elapsed_time  set_no  \\\n0  2023-wimbledon-2701  Marketa Vondrousova  Ons Jabeur      0:00:00       1   \n1  2023-wimbledon-2701  Marketa Vondrousova  Ons Jabeur      0:00:22       1   \n2  2023-wimbledon-2701  Marketa Vondrousova  Ons Jabeur      0:01:36       1   \n3  2023-wimbledon-2701  Marketa Vondrousova  Ons Jabeur      0:02:05       1   \n4  2023-wimbledon-2701  Marketa Vondrousova  Ons Jabeur      0:03:24       1   \n\n   game_no  point_no  p1_sets  p2_sets  p1_games  ...  p2_break_pt_won  \\\n0        1         1      NaN      NaN         0  ...                0   \n1        1         2      NaN      NaN         0  ...                0   \n2        1         3      NaN      NaN         0  ...                0   \n3        1         4      NaN      NaN         0  ...                0   \n4        1         5      NaN      NaN         0  ...                0   \n\n  p1_break_pt_missed p2_break_pt_missed  p1_distance_run  p2_distance_run  \\\n0                NaN                NaN              NaN              NaN   \n1                NaN                NaN              NaN              NaN   \n2                NaN                NaN              NaN              NaN   \n3                NaN                NaN              NaN              NaN   \n4                NaN                NaN              NaN              NaN   \n\n   rally_count  speed_mph  serve_width  serve_depth  return_depth  \n0          NaN        NaN          NaN          NaN           NaN  \n1          NaN        NaN          NaN          NaN           NaN  \n2          NaN        NaN          NaN          NaN           NaN  \n3          NaN        NaN          NaN          NaN           NaN  \n4          NaN        NaN          NaN          NaN           NaN  \n\n[5 rows x 46 columns]",
      "text/html": "<div>\n<style scoped>\n    .dataframe tbody tr th:only-of-type {\n        vertical-align: middle;\n    }\n\n    .dataframe tbody tr th {\n        vertical-align: top;\n    }\n\n    .dataframe thead th {\n        text-align: right;\n    }\n</style>\n<table border=\"1\" class=\"dataframe\">\n  <thead>\n    <tr style=\"text-align: right;\">\n      <th></th>\n      <th>match_id</th>\n      <th>player1</th>\n      <th>player2</th>\n      <th>elapsed_time</th>\n      <th>set_no</th>\n      <th>game_no</th>\n      <th>point_no</th>\n      <th>p1_sets</th>\n      <th>p2_sets</th>\n      <th>p1_games</th>\n      <th>...</th>\n      <th>p2_break_pt_won</th>\n      <th>p1_break_pt_missed</th>\n      <th>p2_break_pt_missed</th>\n      <th>p1_distance_run</th>\n      <th>p2_distance_run</th>\n      <th>rally_count</th>\n      <th>speed_mph</th>\n      <th>serve_width</th>\n      <th>serve_depth</th>\n      <th>return_depth</th>\n    </tr>\n  </thead>\n  <tbody>\n    <tr>\n      <th>0</th>\n      <td>2023-wimbledon-2701</td>\n      <td>Marketa Vondrousova</td>\n      <td>Ons Jabeur</td>\n      <td>0:00:00</td>\n      <td>1</td>\n      <td>1</td>\n      <td>1</td>\n      <td>NaN</td>\n      <td>NaN</td>\n      <td>0</td>\n      <td>...</td>\n      <td>0</td>\n      <td>NaN</td>\n      <td>NaN</td>\n      <td>NaN</td>\n      <td>NaN</td>\n      <td>NaN</td>\n      <td>NaN</td>\n      <td>NaN</td>\n      <td>NaN</td>\n      <td>NaN</td>\n    </tr>\n    <tr>\n      <th>1</th>\n      <td>2023-wimbledon-2701</td>\n      <td>Marketa Vondrousova</td>\n      <td>Ons Jabeur</td>\n      <td>0:00:22</td>\n      <td>1</td>\n      <td>1</td>\n      <td>2</td>\n      <td>NaN</td>\n      <td>NaN</td>\n      <td>0</td>\n      <td>...</td>\n      <td>0</td>\n      <td>NaN</td>\n      <td>NaN</td>\n      <td>NaN</td>\n      <td>NaN</td>\n      <td>NaN</td>\n      <td>NaN</td>\n      <td>NaN</td>\n      <td>NaN</td>\n      <td>NaN</td>\n    </tr>\n    <tr>\n      <th>2</th>\n      <td>2023-wimbledon-2701</td>\n      <td>Marketa Vondrousova</td>\n      <td>Ons Jabeur</td>\n      <td>0:01:36</td>\n      <td>1</td>\n      <td>1</td>\n      <td>3</td>\n      <td>NaN</td>\n      <td>NaN</td>\n      <td>0</td>\n      <td>...</td>\n      <td>0</td>\n      <td>NaN</td>\n      <td>NaN</td>\n      <td>NaN</td>\n      <td>NaN</td>\n      <td>NaN</td>\n      <td>NaN</td>\n      <td>NaN</td>\n      <td>NaN</td>\n      <td>NaN</td>\n    </tr>\n    <tr>\n      <th>3</th>\n      <td>2023-wimbledon-2701</td>\n      <td>Marketa Vondrousova</td>\n      <td>Ons Jabeur</td>\n      <td>0:02:05</td>\n      <td>1</td>\n      <td>1</td>\n      <td>4</td>\n      <td>NaN</td>\n      <td>NaN</td>\n      <td>0</td>\n      <td>...</td>\n      <td>0</td>\n      <td>NaN</td>\n      <td>NaN</td>\n      <td>NaN</td>\n      <td>NaN</td>\n      <td>NaN</td>\n      <td>NaN</td>\n      <td>NaN</td>\n      <td>NaN</td>\n      <td>NaN</td>\n    </tr>\n    <tr>\n      <th>4</th>\n      <td>2023-wimbledon-2701</td>\n      <td>Marketa Vondrousova</td>\n      <td>Ons Jabeur</td>\n      <td>0:03:24</td>\n      <td>1</td>\n      <td>1</td>\n      <td>5</td>\n      <td>NaN</td>\n      <td>NaN</td>\n      <td>0</td>\n      <td>...</td>\n      <td>0</td>\n      <td>NaN</td>\n      <td>NaN</td>\n      <td>NaN</td>\n      <td>NaN</td>\n      <td>NaN</td>\n      <td>NaN</td>\n      <td>NaN</td>\n      <td>NaN</td>\n      <td>NaN</td>\n    </tr>\n  </tbody>\n</table>\n<p>5 rows × 46 columns</p>\n</div>"
     },
     "execution_count": 54,
     "metadata": {},
     "output_type": "execute_result"
    }
   ],
   "source": [
    "data_raw.head()"
   ],
   "metadata": {
    "collapsed": false,
    "pycharm": {
     "name": "#%%\n"
    }
   }
  },
  {
   "cell_type": "code",
   "execution_count": 55,
   "outputs": [
    {
     "data": {
      "text/plain": "array(['2023-wimbledon-2701'], dtype=object)"
     },
     "execution_count": 55,
     "metadata": {},
     "output_type": "execute_result"
    }
   ],
   "source": [
    "data_raw['match_id'].unique()"
   ],
   "metadata": {
    "collapsed": false,
    "pycharm": {
     "name": "#%%\n"
    }
   }
  },
  {
   "cell_type": "code",
   "execution_count": 56,
   "outputs": [],
   "source": [
    "data_raw['match_id'] = pd.factorize(data_raw['match_id'])[0]+1"
   ],
   "metadata": {
    "collapsed": false,
    "pycharm": {
     "name": "#%%\n"
    }
   }
  },
  {
   "cell_type": "code",
   "execution_count": 57,
   "outputs": [
    {
     "data": {
      "text/plain": "     match_id              player1     player2 elapsed_time  set_no  game_no  \\\n0           1  Marketa Vondrousova  Ons Jabeur      0:00:00       1        1   \n1           1  Marketa Vondrousova  Ons Jabeur      0:00:22       1        1   \n2           1  Marketa Vondrousova  Ons Jabeur      0:01:36       1        1   \n3           1  Marketa Vondrousova  Ons Jabeur      0:02:05       1        1   \n4           1  Marketa Vondrousova  Ons Jabeur      0:03:24       1        1   \n..        ...                  ...         ...          ...     ...      ...   \n120         1  Marketa Vondrousova  Ons Jabeur      1:18:13       2       10   \n121         1  Marketa Vondrousova  Ons Jabeur      1:18:48       2       10   \n122         1  Marketa Vondrousova  Ons Jabeur      1:19:16       2       10   \n123         1  Marketa Vondrousova  Ons Jabeur      1:19:57       2       10   \n124         1  Marketa Vondrousova  Ons Jabeur      1:20:28       2       10   \n\n     point_no  p1_sets  p2_sets  p1_games  ...  p2_break_pt_won  \\\n0           1      NaN      NaN         0  ...                0   \n1           2      NaN      NaN         0  ...                0   \n2           3      NaN      NaN         0  ...                0   \n3           4      NaN      NaN         0  ...                0   \n4           5      NaN      NaN         0  ...                0   \n..        ...      ...      ...       ...  ...              ...   \n120       121      NaN      NaN         5  ...                0   \n121       122      NaN      NaN         5  ...                0   \n122       123      NaN      NaN         5  ...                0   \n123       124      NaN      NaN         5  ...                0   \n124       125      NaN      NaN         6  ...                0   \n\n    p1_break_pt_missed p2_break_pt_missed  p1_distance_run  p2_distance_run  \\\n0                  NaN                NaN              NaN              NaN   \n1                  NaN                NaN              NaN              NaN   \n2                  NaN                NaN              NaN              NaN   \n3                  NaN                NaN              NaN              NaN   \n4                  NaN                NaN              NaN              NaN   \n..                 ...                ...              ...              ...   \n120                NaN                NaN              NaN              NaN   \n121                NaN                NaN              NaN              NaN   \n122                NaN                NaN              NaN              NaN   \n123                NaN                NaN              NaN              NaN   \n124                NaN                NaN              NaN              NaN   \n\n     rally_count  speed_mph  serve_width  serve_depth  return_depth  \n0            NaN        NaN          NaN          NaN           NaN  \n1            NaN        NaN          NaN          NaN           NaN  \n2            NaN        NaN          NaN          NaN           NaN  \n3            NaN        NaN          NaN          NaN           NaN  \n4            NaN        NaN          NaN          NaN           NaN  \n..           ...        ...          ...          ...           ...  \n120          NaN        NaN          NaN          NaN           NaN  \n121          NaN        NaN          NaN          NaN           NaN  \n122          NaN        NaN          NaN          NaN           NaN  \n123          NaN        NaN          NaN          NaN           NaN  \n124          NaN        NaN          NaN          NaN           NaN  \n\n[125 rows x 46 columns]",
      "text/html": "<div>\n<style scoped>\n    .dataframe tbody tr th:only-of-type {\n        vertical-align: middle;\n    }\n\n    .dataframe tbody tr th {\n        vertical-align: top;\n    }\n\n    .dataframe thead th {\n        text-align: right;\n    }\n</style>\n<table border=\"1\" class=\"dataframe\">\n  <thead>\n    <tr style=\"text-align: right;\">\n      <th></th>\n      <th>match_id</th>\n      <th>player1</th>\n      <th>player2</th>\n      <th>elapsed_time</th>\n      <th>set_no</th>\n      <th>game_no</th>\n      <th>point_no</th>\n      <th>p1_sets</th>\n      <th>p2_sets</th>\n      <th>p1_games</th>\n      <th>...</th>\n      <th>p2_break_pt_won</th>\n      <th>p1_break_pt_missed</th>\n      <th>p2_break_pt_missed</th>\n      <th>p1_distance_run</th>\n      <th>p2_distance_run</th>\n      <th>rally_count</th>\n      <th>speed_mph</th>\n      <th>serve_width</th>\n      <th>serve_depth</th>\n      <th>return_depth</th>\n    </tr>\n  </thead>\n  <tbody>\n    <tr>\n      <th>0</th>\n      <td>1</td>\n      <td>Marketa Vondrousova</td>\n      <td>Ons Jabeur</td>\n      <td>0:00:00</td>\n      <td>1</td>\n      <td>1</td>\n      <td>1</td>\n      <td>NaN</td>\n      <td>NaN</td>\n      <td>0</td>\n      <td>...</td>\n      <td>0</td>\n      <td>NaN</td>\n      <td>NaN</td>\n      <td>NaN</td>\n      <td>NaN</td>\n      <td>NaN</td>\n      <td>NaN</td>\n      <td>NaN</td>\n      <td>NaN</td>\n      <td>NaN</td>\n    </tr>\n    <tr>\n      <th>1</th>\n      <td>1</td>\n      <td>Marketa Vondrousova</td>\n      <td>Ons Jabeur</td>\n      <td>0:00:22</td>\n      <td>1</td>\n      <td>1</td>\n      <td>2</td>\n      <td>NaN</td>\n      <td>NaN</td>\n      <td>0</td>\n      <td>...</td>\n      <td>0</td>\n      <td>NaN</td>\n      <td>NaN</td>\n      <td>NaN</td>\n      <td>NaN</td>\n      <td>NaN</td>\n      <td>NaN</td>\n      <td>NaN</td>\n      <td>NaN</td>\n      <td>NaN</td>\n    </tr>\n    <tr>\n      <th>2</th>\n      <td>1</td>\n      <td>Marketa Vondrousova</td>\n      <td>Ons Jabeur</td>\n      <td>0:01:36</td>\n      <td>1</td>\n      <td>1</td>\n      <td>3</td>\n      <td>NaN</td>\n      <td>NaN</td>\n      <td>0</td>\n      <td>...</td>\n      <td>0</td>\n      <td>NaN</td>\n      <td>NaN</td>\n      <td>NaN</td>\n      <td>NaN</td>\n      <td>NaN</td>\n      <td>NaN</td>\n      <td>NaN</td>\n      <td>NaN</td>\n      <td>NaN</td>\n    </tr>\n    <tr>\n      <th>3</th>\n      <td>1</td>\n      <td>Marketa Vondrousova</td>\n      <td>Ons Jabeur</td>\n      <td>0:02:05</td>\n      <td>1</td>\n      <td>1</td>\n      <td>4</td>\n      <td>NaN</td>\n      <td>NaN</td>\n      <td>0</td>\n      <td>...</td>\n      <td>0</td>\n      <td>NaN</td>\n      <td>NaN</td>\n      <td>NaN</td>\n      <td>NaN</td>\n      <td>NaN</td>\n      <td>NaN</td>\n      <td>NaN</td>\n      <td>NaN</td>\n      <td>NaN</td>\n    </tr>\n    <tr>\n      <th>4</th>\n      <td>1</td>\n      <td>Marketa Vondrousova</td>\n      <td>Ons Jabeur</td>\n      <td>0:03:24</td>\n      <td>1</td>\n      <td>1</td>\n      <td>5</td>\n      <td>NaN</td>\n      <td>NaN</td>\n      <td>0</td>\n      <td>...</td>\n      <td>0</td>\n      <td>NaN</td>\n      <td>NaN</td>\n      <td>NaN</td>\n      <td>NaN</td>\n      <td>NaN</td>\n      <td>NaN</td>\n      <td>NaN</td>\n      <td>NaN</td>\n      <td>NaN</td>\n    </tr>\n    <tr>\n      <th>...</th>\n      <td>...</td>\n      <td>...</td>\n      <td>...</td>\n      <td>...</td>\n      <td>...</td>\n      <td>...</td>\n      <td>...</td>\n      <td>...</td>\n      <td>...</td>\n      <td>...</td>\n      <td>...</td>\n      <td>...</td>\n      <td>...</td>\n      <td>...</td>\n      <td>...</td>\n      <td>...</td>\n      <td>...</td>\n      <td>...</td>\n      <td>...</td>\n      <td>...</td>\n      <td>...</td>\n    </tr>\n    <tr>\n      <th>120</th>\n      <td>1</td>\n      <td>Marketa Vondrousova</td>\n      <td>Ons Jabeur</td>\n      <td>1:18:13</td>\n      <td>2</td>\n      <td>10</td>\n      <td>121</td>\n      <td>NaN</td>\n      <td>NaN</td>\n      <td>5</td>\n      <td>...</td>\n      <td>0</td>\n      <td>NaN</td>\n      <td>NaN</td>\n      <td>NaN</td>\n      <td>NaN</td>\n      <td>NaN</td>\n      <td>NaN</td>\n      <td>NaN</td>\n      <td>NaN</td>\n      <td>NaN</td>\n    </tr>\n    <tr>\n      <th>121</th>\n      <td>1</td>\n      <td>Marketa Vondrousova</td>\n      <td>Ons Jabeur</td>\n      <td>1:18:48</td>\n      <td>2</td>\n      <td>10</td>\n      <td>122</td>\n      <td>NaN</td>\n      <td>NaN</td>\n      <td>5</td>\n      <td>...</td>\n      <td>0</td>\n      <td>NaN</td>\n      <td>NaN</td>\n      <td>NaN</td>\n      <td>NaN</td>\n      <td>NaN</td>\n      <td>NaN</td>\n      <td>NaN</td>\n      <td>NaN</td>\n      <td>NaN</td>\n    </tr>\n    <tr>\n      <th>122</th>\n      <td>1</td>\n      <td>Marketa Vondrousova</td>\n      <td>Ons Jabeur</td>\n      <td>1:19:16</td>\n      <td>2</td>\n      <td>10</td>\n      <td>123</td>\n      <td>NaN</td>\n      <td>NaN</td>\n      <td>5</td>\n      <td>...</td>\n      <td>0</td>\n      <td>NaN</td>\n      <td>NaN</td>\n      <td>NaN</td>\n      <td>NaN</td>\n      <td>NaN</td>\n      <td>NaN</td>\n      <td>NaN</td>\n      <td>NaN</td>\n      <td>NaN</td>\n    </tr>\n    <tr>\n      <th>123</th>\n      <td>1</td>\n      <td>Marketa Vondrousova</td>\n      <td>Ons Jabeur</td>\n      <td>1:19:57</td>\n      <td>2</td>\n      <td>10</td>\n      <td>124</td>\n      <td>NaN</td>\n      <td>NaN</td>\n      <td>5</td>\n      <td>...</td>\n      <td>0</td>\n      <td>NaN</td>\n      <td>NaN</td>\n      <td>NaN</td>\n      <td>NaN</td>\n      <td>NaN</td>\n      <td>NaN</td>\n      <td>NaN</td>\n      <td>NaN</td>\n      <td>NaN</td>\n    </tr>\n    <tr>\n      <th>124</th>\n      <td>1</td>\n      <td>Marketa Vondrousova</td>\n      <td>Ons Jabeur</td>\n      <td>1:20:28</td>\n      <td>2</td>\n      <td>10</td>\n      <td>125</td>\n      <td>NaN</td>\n      <td>NaN</td>\n      <td>6</td>\n      <td>...</td>\n      <td>0</td>\n      <td>NaN</td>\n      <td>NaN</td>\n      <td>NaN</td>\n      <td>NaN</td>\n      <td>NaN</td>\n      <td>NaN</td>\n      <td>NaN</td>\n      <td>NaN</td>\n      <td>NaN</td>\n    </tr>\n  </tbody>\n</table>\n<p>125 rows × 46 columns</p>\n</div>"
     },
     "execution_count": 57,
     "metadata": {},
     "output_type": "execute_result"
    }
   ],
   "source": [
    "data_raw"
   ],
   "metadata": {
    "collapsed": false,
    "pycharm": {
     "name": "#%%\n"
    }
   }
  },
  {
   "cell_type": "code",
   "execution_count": 58,
   "outputs": [
    {
     "data": {
      "text/plain": "match_id                int64\nplayer1                object\nplayer2                object\nelapsed_time           object\nset_no                  int64\ngame_no                 int64\npoint_no                int64\np1_sets               float64\np2_sets               float64\np1_games                int64\np2_games                int64\np1_score               object\np2_score               object\nserver                  int64\nserve_no              float64\npoint_victor            int64\np1_points_won           int64\np2_points_won           int64\ngame_victor             int64\nset_victor              int64\np1_ace                  int64\np2_ace                  int64\np1_winner               int64\np2_winner               int64\nwinner_shot_type      float64\np1_double_fault         int64\np2_double_fault         int64\np1_unf_err              int64\np2_unf_err              int64\np1_net_pt               int64\np2_net_pt               int64\np1_net_pt_won           int64\np2_net_pt_won           int64\np1_break_pt             int64\np2_break_pt             int64\np1_break_pt_won         int64\np2_break_pt_won         int64\np1_break_pt_missed    float64\np2_break_pt_missed    float64\np1_distance_run       float64\np2_distance_run       float64\nrally_count           float64\nspeed_mph             float64\nserve_width           float64\nserve_depth           float64\nreturn_depth          float64\ndtype: object"
     },
     "execution_count": 58,
     "metadata": {},
     "output_type": "execute_result"
    }
   ],
   "source": [
    "data_raw.dtypes"
   ],
   "metadata": {
    "collapsed": false,
    "pycharm": {
     "name": "#%%\n"
    }
   }
  },
  {
   "cell_type": "code",
   "execution_count": 59,
   "outputs": [],
   "source": [
    "replacement_dict = {'AD': 4, '15': 1, '30': 2, '40': 3,'0':0}"
   ],
   "metadata": {
    "collapsed": false,
    "pycharm": {
     "name": "#%%\n"
    }
   }
  },
  {
   "cell_type": "code",
   "execution_count": 60,
   "outputs": [],
   "source": [
    "data_raw['p1_score'] = data_raw['p1_score'].replace(replacement_dict).astype(int)"
   ],
   "metadata": {
    "collapsed": false,
    "pycharm": {
     "name": "#%%\n"
    }
   }
  },
  {
   "cell_type": "code",
   "execution_count": 61,
   "outputs": [],
   "source": [
    "data_raw['p2_score'] = data_raw['p2_score'].replace(replacement_dict).astype(int)"
   ],
   "metadata": {
    "collapsed": false,
    "pycharm": {
     "name": "#%%\n"
    }
   }
  },
  {
   "cell_type": "code",
   "execution_count": 112,
   "outputs": [],
   "source": [
    "# 使用pd.get_dummies进行独热编码\n",
    "one_hot_encoded_width = pd.get_dummies(data_raw['serve_width'], prefix='serve_width')\n",
    "\n",
    "# 将独热编码的结果连接到原始DataFrame\n",
    "data_raw = pd.concat([data_raw, one_hot_encoded_width], axis=1)"
   ],
   "metadata": {
    "collapsed": false,
    "pycharm": {
     "name": "#%%\n"
    }
   }
  },
  {
   "cell_type": "code",
   "execution_count": 113,
   "outputs": [],
   "source": [
    "# 使用pd.Categorical将列转换为分类变量\n",
    "data_raw['serve_depth'] = pd.Categorical(data_raw['serve_depth'], categories=['NCTL','CTL'], ordered=True)\n",
    "# 添加一个新的列，表示分类变量的标签\n",
    "data_raw['serve_depth_new'] = data_raw['serve_depth'].cat.codes"
   ],
   "metadata": {
    "collapsed": false,
    "pycharm": {
     "name": "#%%\n"
    }
   }
  },
  {
   "cell_type": "code",
   "execution_count": 47,
   "outputs": [
    {
     "data": {
      "text/plain": "     match_id              player1  player2  elapsed_time  set_no  game_no  \\\n0           1  Marketa Vondrousova  0:00:00             1       1        1   \n1           1  Marketa Vondrousova  0:00:22             1       1        2   \n2           1  Marketa Vondrousova  0:01:36             1       1        3   \n3           1  Marketa Vondrousova  0:02:05             1       1        4   \n4           1  Marketa Vondrousova  0:03:24             1       1        5   \n..        ...                  ...      ...           ...     ...      ...   \n120         1  Marketa Vondrousova  1:18:13             2      10      121   \n121         1  Marketa Vondrousova  1:18:48             2      10      122   \n122         1  Marketa Vondrousova  1:19:16             2      10      123   \n123         1  Marketa Vondrousova  1:19:57             2      10      124   \n124         1  Marketa Vondrousova  1:20:28             2      10      125   \n\n     point_no  p1_sets  p2_sets  p1_games  ... p2_break_pt_won  \\\n0         NaN      NaN        0         0  ...             NaN   \n1         NaN      NaN        0         0  ...             NaN   \n2         NaN      NaN        0         0  ...             NaN   \n3         NaN      NaN        0         0  ...             NaN   \n4         NaN      NaN        0         0  ...             NaN   \n..        ...      ...      ...       ...  ...             ...   \n120       NaN      NaN        5         4  ...             NaN   \n121       NaN      NaN        5         4  ...             NaN   \n122       NaN      NaN        5         4  ...             NaN   \n123       NaN      NaN        5         4  ...             NaN   \n124       NaN      NaN        6         4  ...             NaN   \n\n     p1_break_pt_missed  p2_break_pt_missed  p1_distance_run  p2_distance_run  \\\n0                25.368              21.744              NaN              NaN   \n1                16.527              17.990              NaN              NaN   \n2                17.510              14.845              NaN              NaN   \n3                41.268              37.207              NaN              NaN   \n4                 6.628               5.560              NaN              NaN   \n..                  ...                 ...              ...              ...   \n120              38.604              77.860              NaN              NaN   \n121              12.737              18.994              NaN              NaN   \n122              40.082              47.854              NaN              NaN   \n123               1.522               1.969              NaN              NaN   \n124              20.288              16.913              NaN              NaN   \n\n     rally_count  speed_mph  serve_width  serve_depth  return_depth  \n0            NaN        NaN          NaN          NaN           NaN  \n1            NaN        NaN          NaN          NaN           NaN  \n2            NaN        NaN          NaN          NaN           NaN  \n3            NaN        NaN          NaN          NaN           NaN  \n4            NaN        NaN          NaN          NaN           NaN  \n..           ...        ...          ...          ...           ...  \n120          NaN        NaN          NaN          NaN           NaN  \n121          NaN        NaN          NaN          NaN           NaN  \n122          NaN        NaN          NaN          NaN           NaN  \n123          NaN        NaN          NaN          NaN           NaN  \n124          NaN        NaN          NaN          NaN           NaN  \n\n[125 rows x 46 columns]",
      "text/html": "<div>\n<style scoped>\n    .dataframe tbody tr th:only-of-type {\n        vertical-align: middle;\n    }\n\n    .dataframe tbody tr th {\n        vertical-align: top;\n    }\n\n    .dataframe thead th {\n        text-align: right;\n    }\n</style>\n<table border=\"1\" class=\"dataframe\">\n  <thead>\n    <tr style=\"text-align: right;\">\n      <th></th>\n      <th>match_id</th>\n      <th>player1</th>\n      <th>player2</th>\n      <th>elapsed_time</th>\n      <th>set_no</th>\n      <th>game_no</th>\n      <th>point_no</th>\n      <th>p1_sets</th>\n      <th>p2_sets</th>\n      <th>p1_games</th>\n      <th>...</th>\n      <th>p2_break_pt_won</th>\n      <th>p1_break_pt_missed</th>\n      <th>p2_break_pt_missed</th>\n      <th>p1_distance_run</th>\n      <th>p2_distance_run</th>\n      <th>rally_count</th>\n      <th>speed_mph</th>\n      <th>serve_width</th>\n      <th>serve_depth</th>\n      <th>return_depth</th>\n    </tr>\n  </thead>\n  <tbody>\n    <tr>\n      <th>0</th>\n      <td>1</td>\n      <td>Marketa Vondrousova</td>\n      <td>0:00:00</td>\n      <td>1</td>\n      <td>1</td>\n      <td>1</td>\n      <td>NaN</td>\n      <td>NaN</td>\n      <td>0</td>\n      <td>0</td>\n      <td>...</td>\n      <td>NaN</td>\n      <td>25.368</td>\n      <td>21.744</td>\n      <td>NaN</td>\n      <td>NaN</td>\n      <td>NaN</td>\n      <td>NaN</td>\n      <td>NaN</td>\n      <td>NaN</td>\n      <td>NaN</td>\n    </tr>\n    <tr>\n      <th>1</th>\n      <td>1</td>\n      <td>Marketa Vondrousova</td>\n      <td>0:00:22</td>\n      <td>1</td>\n      <td>1</td>\n      <td>2</td>\n      <td>NaN</td>\n      <td>NaN</td>\n      <td>0</td>\n      <td>0</td>\n      <td>...</td>\n      <td>NaN</td>\n      <td>16.527</td>\n      <td>17.990</td>\n      <td>NaN</td>\n      <td>NaN</td>\n      <td>NaN</td>\n      <td>NaN</td>\n      <td>NaN</td>\n      <td>NaN</td>\n      <td>NaN</td>\n    </tr>\n    <tr>\n      <th>2</th>\n      <td>1</td>\n      <td>Marketa Vondrousova</td>\n      <td>0:01:36</td>\n      <td>1</td>\n      <td>1</td>\n      <td>3</td>\n      <td>NaN</td>\n      <td>NaN</td>\n      <td>0</td>\n      <td>0</td>\n      <td>...</td>\n      <td>NaN</td>\n      <td>17.510</td>\n      <td>14.845</td>\n      <td>NaN</td>\n      <td>NaN</td>\n      <td>NaN</td>\n      <td>NaN</td>\n      <td>NaN</td>\n      <td>NaN</td>\n      <td>NaN</td>\n    </tr>\n    <tr>\n      <th>3</th>\n      <td>1</td>\n      <td>Marketa Vondrousova</td>\n      <td>0:02:05</td>\n      <td>1</td>\n      <td>1</td>\n      <td>4</td>\n      <td>NaN</td>\n      <td>NaN</td>\n      <td>0</td>\n      <td>0</td>\n      <td>...</td>\n      <td>NaN</td>\n      <td>41.268</td>\n      <td>37.207</td>\n      <td>NaN</td>\n      <td>NaN</td>\n      <td>NaN</td>\n      <td>NaN</td>\n      <td>NaN</td>\n      <td>NaN</td>\n      <td>NaN</td>\n    </tr>\n    <tr>\n      <th>4</th>\n      <td>1</td>\n      <td>Marketa Vondrousova</td>\n      <td>0:03:24</td>\n      <td>1</td>\n      <td>1</td>\n      <td>5</td>\n      <td>NaN</td>\n      <td>NaN</td>\n      <td>0</td>\n      <td>0</td>\n      <td>...</td>\n      <td>NaN</td>\n      <td>6.628</td>\n      <td>5.560</td>\n      <td>NaN</td>\n      <td>NaN</td>\n      <td>NaN</td>\n      <td>NaN</td>\n      <td>NaN</td>\n      <td>NaN</td>\n      <td>NaN</td>\n    </tr>\n    <tr>\n      <th>...</th>\n      <td>...</td>\n      <td>...</td>\n      <td>...</td>\n      <td>...</td>\n      <td>...</td>\n      <td>...</td>\n      <td>...</td>\n      <td>...</td>\n      <td>...</td>\n      <td>...</td>\n      <td>...</td>\n      <td>...</td>\n      <td>...</td>\n      <td>...</td>\n      <td>...</td>\n      <td>...</td>\n      <td>...</td>\n      <td>...</td>\n      <td>...</td>\n      <td>...</td>\n      <td>...</td>\n    </tr>\n    <tr>\n      <th>120</th>\n      <td>1</td>\n      <td>Marketa Vondrousova</td>\n      <td>1:18:13</td>\n      <td>2</td>\n      <td>10</td>\n      <td>121</td>\n      <td>NaN</td>\n      <td>NaN</td>\n      <td>5</td>\n      <td>4</td>\n      <td>...</td>\n      <td>NaN</td>\n      <td>38.604</td>\n      <td>77.860</td>\n      <td>NaN</td>\n      <td>NaN</td>\n      <td>NaN</td>\n      <td>NaN</td>\n      <td>NaN</td>\n      <td>NaN</td>\n      <td>NaN</td>\n    </tr>\n    <tr>\n      <th>121</th>\n      <td>1</td>\n      <td>Marketa Vondrousova</td>\n      <td>1:18:48</td>\n      <td>2</td>\n      <td>10</td>\n      <td>122</td>\n      <td>NaN</td>\n      <td>NaN</td>\n      <td>5</td>\n      <td>4</td>\n      <td>...</td>\n      <td>NaN</td>\n      <td>12.737</td>\n      <td>18.994</td>\n      <td>NaN</td>\n      <td>NaN</td>\n      <td>NaN</td>\n      <td>NaN</td>\n      <td>NaN</td>\n      <td>NaN</td>\n      <td>NaN</td>\n    </tr>\n    <tr>\n      <th>122</th>\n      <td>1</td>\n      <td>Marketa Vondrousova</td>\n      <td>1:19:16</td>\n      <td>2</td>\n      <td>10</td>\n      <td>123</td>\n      <td>NaN</td>\n      <td>NaN</td>\n      <td>5</td>\n      <td>4</td>\n      <td>...</td>\n      <td>NaN</td>\n      <td>40.082</td>\n      <td>47.854</td>\n      <td>NaN</td>\n      <td>NaN</td>\n      <td>NaN</td>\n      <td>NaN</td>\n      <td>NaN</td>\n      <td>NaN</td>\n      <td>NaN</td>\n    </tr>\n    <tr>\n      <th>123</th>\n      <td>1</td>\n      <td>Marketa Vondrousova</td>\n      <td>1:19:57</td>\n      <td>2</td>\n      <td>10</td>\n      <td>124</td>\n      <td>NaN</td>\n      <td>NaN</td>\n      <td>5</td>\n      <td>4</td>\n      <td>...</td>\n      <td>NaN</td>\n      <td>1.522</td>\n      <td>1.969</td>\n      <td>NaN</td>\n      <td>NaN</td>\n      <td>NaN</td>\n      <td>NaN</td>\n      <td>NaN</td>\n      <td>NaN</td>\n      <td>NaN</td>\n    </tr>\n    <tr>\n      <th>124</th>\n      <td>1</td>\n      <td>Marketa Vondrousova</td>\n      <td>1:20:28</td>\n      <td>2</td>\n      <td>10</td>\n      <td>125</td>\n      <td>NaN</td>\n      <td>NaN</td>\n      <td>6</td>\n      <td>4</td>\n      <td>...</td>\n      <td>NaN</td>\n      <td>20.288</td>\n      <td>16.913</td>\n      <td>NaN</td>\n      <td>NaN</td>\n      <td>NaN</td>\n      <td>NaN</td>\n      <td>NaN</td>\n      <td>NaN</td>\n      <td>NaN</td>\n    </tr>\n  </tbody>\n</table>\n<p>125 rows × 46 columns</p>\n</div>"
     },
     "execution_count": 47,
     "metadata": {},
     "output_type": "execute_result"
    }
   ],
   "source": [
    "data_raw"
   ],
   "metadata": {
    "collapsed": false,
    "pycharm": {
     "name": "#%%\n"
    }
   }
  },
  {
   "cell_type": "code",
   "execution_count": 115,
   "outputs": [],
   "source": [
    "# 使用pd.Categorical将列转换为分类变量\n",
    "data_raw['return_depth'] = pd.Categorical(data_raw['return_depth'], categories=['ND','D'], ordered=True)\n",
    "# 添加一个新的列，表示分类变量的标签\n",
    "data_raw['return_depth_new'] = data_raw['return_depth'].cat.codes"
   ],
   "metadata": {
    "collapsed": false,
    "pycharm": {
     "name": "#%%\n"
    }
   }
  },
  {
   "cell_type": "code",
   "execution_count": 19,
   "outputs": [
    {
     "data": {
      "text/plain": "     match_id  player1  player2 elapsed_time  set_no  game_no  point_no  \\\n0           1      NaN      NaN      0:00:00       1        1         1   \n1           1      NaN      NaN      0:00:18       1        1         2   \n2           1      NaN      NaN      0:00:42       1        1         3   \n3           1      NaN      NaN      0:01:06       1        1         4   \n4           1      NaN      NaN      0:01:41       1        1         5   \n..        ...      ...      ...          ...     ...      ...       ...   \n161         1      NaN      NaN      1:45:05       3        8       162   \n162         1      NaN      NaN      1:45:53       3        8       163   \n163         1      NaN      NaN      1:46:48       3        8       164   \n164         1      NaN      NaN      1:47:27       3        8       165   \n165         1      NaN      NaN      1:48:24       3        8       166   \n\n     p1_sets  p2_sets  p1_games  ...  p2_break_pt_won  p1_break_pt_missed  \\\n0        NaN      NaN       NaN  ...                0                 NaN   \n1        NaN      NaN       NaN  ...                0                 NaN   \n2        NaN      NaN       NaN  ...                0                 NaN   \n3        NaN      NaN       NaN  ...                0                 NaN   \n4        NaN      NaN       NaN  ...                0                 NaN   \n..       ...      ...       ...  ...              ...                 ...   \n161      NaN      NaN       NaN  ...                0                 NaN   \n162      NaN      NaN       NaN  ...                0                 NaN   \n163      NaN      NaN       NaN  ...                0                 NaN   \n164      NaN      NaN       NaN  ...                0                 NaN   \n165      NaN      NaN       NaN  ...                0                 NaN   \n\n     p2_break_pt_missed  p1_distance_run  p2_distance_run  rally_count  \\\n0                   NaN            7.224            5.668            1   \n1                   NaN           12.123            9.853            3   \n2                   NaN            6.229            5.455            1   \n3                   NaN            6.174            5.939            2   \n4                   NaN           13.914           12.187            4   \n..                  ...              ...              ...          ...   \n161                 NaN            3.932            4.244            0   \n162                 NaN           32.798           27.266           10   \n163                 NaN           10.402            9.464            3   \n164                 NaN           15.307            9.917            3   \n165                 NaN            4.406            3.295            1   \n\n     speed_mph  serve_width  serve_depth  return_depth  \n0          NaN          NaN          NaN           NaN  \n1          NaN          NaN          NaN           NaN  \n2          NaN          NaN          NaN           NaN  \n3          NaN          NaN          NaN           NaN  \n4          NaN          NaN          NaN           NaN  \n..         ...          ...          ...           ...  \n161        NaN          NaN          NaN           NaN  \n162        NaN          NaN          NaN           NaN  \n163        NaN          NaN          NaN           NaN  \n164        NaN          NaN          NaN           NaN  \n165        NaN          NaN          NaN           NaN  \n\n[166 rows x 46 columns]",
      "text/html": "<div>\n<style scoped>\n    .dataframe tbody tr th:only-of-type {\n        vertical-align: middle;\n    }\n\n    .dataframe tbody tr th {\n        vertical-align: top;\n    }\n\n    .dataframe thead th {\n        text-align: right;\n    }\n</style>\n<table border=\"1\" class=\"dataframe\">\n  <thead>\n    <tr style=\"text-align: right;\">\n      <th></th>\n      <th>match_id</th>\n      <th>player1</th>\n      <th>player2</th>\n      <th>elapsed_time</th>\n      <th>set_no</th>\n      <th>game_no</th>\n      <th>point_no</th>\n      <th>p1_sets</th>\n      <th>p2_sets</th>\n      <th>p1_games</th>\n      <th>...</th>\n      <th>p2_break_pt_won</th>\n      <th>p1_break_pt_missed</th>\n      <th>p2_break_pt_missed</th>\n      <th>p1_distance_run</th>\n      <th>p2_distance_run</th>\n      <th>rally_count</th>\n      <th>speed_mph</th>\n      <th>serve_width</th>\n      <th>serve_depth</th>\n      <th>return_depth</th>\n    </tr>\n  </thead>\n  <tbody>\n    <tr>\n      <th>0</th>\n      <td>1</td>\n      <td>NaN</td>\n      <td>NaN</td>\n      <td>0:00:00</td>\n      <td>1</td>\n      <td>1</td>\n      <td>1</td>\n      <td>NaN</td>\n      <td>NaN</td>\n      <td>NaN</td>\n      <td>...</td>\n      <td>0</td>\n      <td>NaN</td>\n      <td>NaN</td>\n      <td>7.224</td>\n      <td>5.668</td>\n      <td>1</td>\n      <td>NaN</td>\n      <td>NaN</td>\n      <td>NaN</td>\n      <td>NaN</td>\n    </tr>\n    <tr>\n      <th>1</th>\n      <td>1</td>\n      <td>NaN</td>\n      <td>NaN</td>\n      <td>0:00:18</td>\n      <td>1</td>\n      <td>1</td>\n      <td>2</td>\n      <td>NaN</td>\n      <td>NaN</td>\n      <td>NaN</td>\n      <td>...</td>\n      <td>0</td>\n      <td>NaN</td>\n      <td>NaN</td>\n      <td>12.123</td>\n      <td>9.853</td>\n      <td>3</td>\n      <td>NaN</td>\n      <td>NaN</td>\n      <td>NaN</td>\n      <td>NaN</td>\n    </tr>\n    <tr>\n      <th>2</th>\n      <td>1</td>\n      <td>NaN</td>\n      <td>NaN</td>\n      <td>0:00:42</td>\n      <td>1</td>\n      <td>1</td>\n      <td>3</td>\n      <td>NaN</td>\n      <td>NaN</td>\n      <td>NaN</td>\n      <td>...</td>\n      <td>0</td>\n      <td>NaN</td>\n      <td>NaN</td>\n      <td>6.229</td>\n      <td>5.455</td>\n      <td>1</td>\n      <td>NaN</td>\n      <td>NaN</td>\n      <td>NaN</td>\n      <td>NaN</td>\n    </tr>\n    <tr>\n      <th>3</th>\n      <td>1</td>\n      <td>NaN</td>\n      <td>NaN</td>\n      <td>0:01:06</td>\n      <td>1</td>\n      <td>1</td>\n      <td>4</td>\n      <td>NaN</td>\n      <td>NaN</td>\n      <td>NaN</td>\n      <td>...</td>\n      <td>0</td>\n      <td>NaN</td>\n      <td>NaN</td>\n      <td>6.174</td>\n      <td>5.939</td>\n      <td>2</td>\n      <td>NaN</td>\n      <td>NaN</td>\n      <td>NaN</td>\n      <td>NaN</td>\n    </tr>\n    <tr>\n      <th>4</th>\n      <td>1</td>\n      <td>NaN</td>\n      <td>NaN</td>\n      <td>0:01:41</td>\n      <td>1</td>\n      <td>1</td>\n      <td>5</td>\n      <td>NaN</td>\n      <td>NaN</td>\n      <td>NaN</td>\n      <td>...</td>\n      <td>0</td>\n      <td>NaN</td>\n      <td>NaN</td>\n      <td>13.914</td>\n      <td>12.187</td>\n      <td>4</td>\n      <td>NaN</td>\n      <td>NaN</td>\n      <td>NaN</td>\n      <td>NaN</td>\n    </tr>\n    <tr>\n      <th>...</th>\n      <td>...</td>\n      <td>...</td>\n      <td>...</td>\n      <td>...</td>\n      <td>...</td>\n      <td>...</td>\n      <td>...</td>\n      <td>...</td>\n      <td>...</td>\n      <td>...</td>\n      <td>...</td>\n      <td>...</td>\n      <td>...</td>\n      <td>...</td>\n      <td>...</td>\n      <td>...</td>\n      <td>...</td>\n      <td>...</td>\n      <td>...</td>\n      <td>...</td>\n      <td>...</td>\n    </tr>\n    <tr>\n      <th>161</th>\n      <td>1</td>\n      <td>NaN</td>\n      <td>NaN</td>\n      <td>1:45:05</td>\n      <td>3</td>\n      <td>8</td>\n      <td>162</td>\n      <td>NaN</td>\n      <td>NaN</td>\n      <td>NaN</td>\n      <td>...</td>\n      <td>0</td>\n      <td>NaN</td>\n      <td>NaN</td>\n      <td>3.932</td>\n      <td>4.244</td>\n      <td>0</td>\n      <td>NaN</td>\n      <td>NaN</td>\n      <td>NaN</td>\n      <td>NaN</td>\n    </tr>\n    <tr>\n      <th>162</th>\n      <td>1</td>\n      <td>NaN</td>\n      <td>NaN</td>\n      <td>1:45:53</td>\n      <td>3</td>\n      <td>8</td>\n      <td>163</td>\n      <td>NaN</td>\n      <td>NaN</td>\n      <td>NaN</td>\n      <td>...</td>\n      <td>0</td>\n      <td>NaN</td>\n      <td>NaN</td>\n      <td>32.798</td>\n      <td>27.266</td>\n      <td>10</td>\n      <td>NaN</td>\n      <td>NaN</td>\n      <td>NaN</td>\n      <td>NaN</td>\n    </tr>\n    <tr>\n      <th>163</th>\n      <td>1</td>\n      <td>NaN</td>\n      <td>NaN</td>\n      <td>1:46:48</td>\n      <td>3</td>\n      <td>8</td>\n      <td>164</td>\n      <td>NaN</td>\n      <td>NaN</td>\n      <td>NaN</td>\n      <td>...</td>\n      <td>0</td>\n      <td>NaN</td>\n      <td>NaN</td>\n      <td>10.402</td>\n      <td>9.464</td>\n      <td>3</td>\n      <td>NaN</td>\n      <td>NaN</td>\n      <td>NaN</td>\n      <td>NaN</td>\n    </tr>\n    <tr>\n      <th>164</th>\n      <td>1</td>\n      <td>NaN</td>\n      <td>NaN</td>\n      <td>1:47:27</td>\n      <td>3</td>\n      <td>8</td>\n      <td>165</td>\n      <td>NaN</td>\n      <td>NaN</td>\n      <td>NaN</td>\n      <td>...</td>\n      <td>0</td>\n      <td>NaN</td>\n      <td>NaN</td>\n      <td>15.307</td>\n      <td>9.917</td>\n      <td>3</td>\n      <td>NaN</td>\n      <td>NaN</td>\n      <td>NaN</td>\n      <td>NaN</td>\n    </tr>\n    <tr>\n      <th>165</th>\n      <td>1</td>\n      <td>NaN</td>\n      <td>NaN</td>\n      <td>1:48:24</td>\n      <td>3</td>\n      <td>8</td>\n      <td>166</td>\n      <td>NaN</td>\n      <td>NaN</td>\n      <td>NaN</td>\n      <td>...</td>\n      <td>0</td>\n      <td>NaN</td>\n      <td>NaN</td>\n      <td>4.406</td>\n      <td>3.295</td>\n      <td>1</td>\n      <td>NaN</td>\n      <td>NaN</td>\n      <td>NaN</td>\n      <td>NaN</td>\n    </tr>\n  </tbody>\n</table>\n<p>166 rows × 46 columns</p>\n</div>"
     },
     "execution_count": 19,
     "metadata": {},
     "output_type": "execute_result"
    }
   ],
   "source": [
    "data_raw"
   ],
   "metadata": {
    "collapsed": false,
    "pycharm": {
     "name": "#%%\n"
    }
   }
  },
  {
   "cell_type": "code",
   "execution_count": 62,
   "outputs": [],
   "source": [
    "data_raw['speed_mph'] = data_raw['speed_mph'].fillna(data_raw['speed_mph'].mean())\n",
    "data_raw['rally_count'] = data_raw['rally_count'].replace({0:float('inf')})"
   ],
   "metadata": {
    "collapsed": false,
    "pycharm": {
     "name": "#%%\n"
    }
   }
  },
  {
   "cell_type": "code",
   "execution_count": 65,
   "outputs": [
    {
     "data": {
      "text/plain": "     match_id              player1     player2 elapsed_time  set_no  game_no  \\\n0           1  Marketa Vondrousova  Ons Jabeur      0:00:00       1        1   \n1           1  Marketa Vondrousova  Ons Jabeur      0:00:22       1        1   \n2           1  Marketa Vondrousova  Ons Jabeur      0:01:36       1        1   \n3           1  Marketa Vondrousova  Ons Jabeur      0:02:05       1        1   \n4           1  Marketa Vondrousova  Ons Jabeur      0:03:24       1        1   \n..        ...                  ...         ...          ...     ...      ...   \n120         1  Marketa Vondrousova  Ons Jabeur      1:18:13       2       10   \n121         1  Marketa Vondrousova  Ons Jabeur      1:18:48       2       10   \n122         1  Marketa Vondrousova  Ons Jabeur      1:19:16       2       10   \n123         1  Marketa Vondrousova  Ons Jabeur      1:19:57       2       10   \n124         1  Marketa Vondrousova  Ons Jabeur      1:20:28       2       10   \n\n     point_no  p1_sets  p2_sets  p1_games  ...  p2_break_pt_won  \\\n0           1      NaN      NaN         0  ...                0   \n1           2      NaN      NaN         0  ...                0   \n2           3      NaN      NaN         0  ...                0   \n3           4      NaN      NaN         0  ...                0   \n4           5      NaN      NaN         0  ...                0   \n..        ...      ...      ...       ...  ...              ...   \n120       121      NaN      NaN         5  ...                0   \n121       122      NaN      NaN         5  ...                0   \n122       123      NaN      NaN         5  ...                0   \n123       124      NaN      NaN         5  ...                0   \n124       125      NaN      NaN         6  ...                0   \n\n     p1_break_pt_missed  p2_break_pt_missed  p1_distance_run  p2_distance_run  \\\n0                   NaN                 NaN              NaN              NaN   \n1                   NaN                 NaN              NaN              NaN   \n2                   NaN                 NaN              NaN              NaN   \n3                   NaN                 NaN              NaN              NaN   \n4                   NaN                 NaN              NaN              NaN   \n..                  ...                 ...              ...              ...   \n120                 NaN                 NaN              NaN              NaN   \n121                 NaN                 NaN              NaN              NaN   \n122                 NaN                 NaN              NaN              NaN   \n123                 NaN                 NaN              NaN              NaN   \n124                 NaN                 NaN              NaN              NaN   \n\n     rally_count  speed_mph  serve_width  serve_depth  return_depth  \n0            NaN        NaN          NaN          NaN           NaN  \n1            NaN        NaN          NaN          NaN           NaN  \n2            NaN        NaN          NaN          NaN           NaN  \n3            NaN        NaN          NaN          NaN           NaN  \n4            NaN        NaN          NaN          NaN           NaN  \n..           ...        ...          ...          ...           ...  \n120          NaN        NaN          NaN          NaN           NaN  \n121          NaN        NaN          NaN          NaN           NaN  \n122          NaN        NaN          NaN          NaN           NaN  \n123          NaN        NaN          NaN          NaN           NaN  \n124          NaN        NaN          NaN          NaN           NaN  \n\n[125 rows x 46 columns]",
      "text/html": "<div>\n<style scoped>\n    .dataframe tbody tr th:only-of-type {\n        vertical-align: middle;\n    }\n\n    .dataframe tbody tr th {\n        vertical-align: top;\n    }\n\n    .dataframe thead th {\n        text-align: right;\n    }\n</style>\n<table border=\"1\" class=\"dataframe\">\n  <thead>\n    <tr style=\"text-align: right;\">\n      <th></th>\n      <th>match_id</th>\n      <th>player1</th>\n      <th>player2</th>\n      <th>elapsed_time</th>\n      <th>set_no</th>\n      <th>game_no</th>\n      <th>point_no</th>\n      <th>p1_sets</th>\n      <th>p2_sets</th>\n      <th>p1_games</th>\n      <th>...</th>\n      <th>p2_break_pt_won</th>\n      <th>p1_break_pt_missed</th>\n      <th>p2_break_pt_missed</th>\n      <th>p1_distance_run</th>\n      <th>p2_distance_run</th>\n      <th>rally_count</th>\n      <th>speed_mph</th>\n      <th>serve_width</th>\n      <th>serve_depth</th>\n      <th>return_depth</th>\n    </tr>\n  </thead>\n  <tbody>\n    <tr>\n      <th>0</th>\n      <td>1</td>\n      <td>Marketa Vondrousova</td>\n      <td>Ons Jabeur</td>\n      <td>0:00:00</td>\n      <td>1</td>\n      <td>1</td>\n      <td>1</td>\n      <td>NaN</td>\n      <td>NaN</td>\n      <td>0</td>\n      <td>...</td>\n      <td>0</td>\n      <td>NaN</td>\n      <td>NaN</td>\n      <td>NaN</td>\n      <td>NaN</td>\n      <td>NaN</td>\n      <td>NaN</td>\n      <td>NaN</td>\n      <td>NaN</td>\n      <td>NaN</td>\n    </tr>\n    <tr>\n      <th>1</th>\n      <td>1</td>\n      <td>Marketa Vondrousova</td>\n      <td>Ons Jabeur</td>\n      <td>0:00:22</td>\n      <td>1</td>\n      <td>1</td>\n      <td>2</td>\n      <td>NaN</td>\n      <td>NaN</td>\n      <td>0</td>\n      <td>...</td>\n      <td>0</td>\n      <td>NaN</td>\n      <td>NaN</td>\n      <td>NaN</td>\n      <td>NaN</td>\n      <td>NaN</td>\n      <td>NaN</td>\n      <td>NaN</td>\n      <td>NaN</td>\n      <td>NaN</td>\n    </tr>\n    <tr>\n      <th>2</th>\n      <td>1</td>\n      <td>Marketa Vondrousova</td>\n      <td>Ons Jabeur</td>\n      <td>0:01:36</td>\n      <td>1</td>\n      <td>1</td>\n      <td>3</td>\n      <td>NaN</td>\n      <td>NaN</td>\n      <td>0</td>\n      <td>...</td>\n      <td>0</td>\n      <td>NaN</td>\n      <td>NaN</td>\n      <td>NaN</td>\n      <td>NaN</td>\n      <td>NaN</td>\n      <td>NaN</td>\n      <td>NaN</td>\n      <td>NaN</td>\n      <td>NaN</td>\n    </tr>\n    <tr>\n      <th>3</th>\n      <td>1</td>\n      <td>Marketa Vondrousova</td>\n      <td>Ons Jabeur</td>\n      <td>0:02:05</td>\n      <td>1</td>\n      <td>1</td>\n      <td>4</td>\n      <td>NaN</td>\n      <td>NaN</td>\n      <td>0</td>\n      <td>...</td>\n      <td>0</td>\n      <td>NaN</td>\n      <td>NaN</td>\n      <td>NaN</td>\n      <td>NaN</td>\n      <td>NaN</td>\n      <td>NaN</td>\n      <td>NaN</td>\n      <td>NaN</td>\n      <td>NaN</td>\n    </tr>\n    <tr>\n      <th>4</th>\n      <td>1</td>\n      <td>Marketa Vondrousova</td>\n      <td>Ons Jabeur</td>\n      <td>0:03:24</td>\n      <td>1</td>\n      <td>1</td>\n      <td>5</td>\n      <td>NaN</td>\n      <td>NaN</td>\n      <td>0</td>\n      <td>...</td>\n      <td>0</td>\n      <td>NaN</td>\n      <td>NaN</td>\n      <td>NaN</td>\n      <td>NaN</td>\n      <td>NaN</td>\n      <td>NaN</td>\n      <td>NaN</td>\n      <td>NaN</td>\n      <td>NaN</td>\n    </tr>\n    <tr>\n      <th>...</th>\n      <td>...</td>\n      <td>...</td>\n      <td>...</td>\n      <td>...</td>\n      <td>...</td>\n      <td>...</td>\n      <td>...</td>\n      <td>...</td>\n      <td>...</td>\n      <td>...</td>\n      <td>...</td>\n      <td>...</td>\n      <td>...</td>\n      <td>...</td>\n      <td>...</td>\n      <td>...</td>\n      <td>...</td>\n      <td>...</td>\n      <td>...</td>\n      <td>...</td>\n      <td>...</td>\n    </tr>\n    <tr>\n      <th>120</th>\n      <td>1</td>\n      <td>Marketa Vondrousova</td>\n      <td>Ons Jabeur</td>\n      <td>1:18:13</td>\n      <td>2</td>\n      <td>10</td>\n      <td>121</td>\n      <td>NaN</td>\n      <td>NaN</td>\n      <td>5</td>\n      <td>...</td>\n      <td>0</td>\n      <td>NaN</td>\n      <td>NaN</td>\n      <td>NaN</td>\n      <td>NaN</td>\n      <td>NaN</td>\n      <td>NaN</td>\n      <td>NaN</td>\n      <td>NaN</td>\n      <td>NaN</td>\n    </tr>\n    <tr>\n      <th>121</th>\n      <td>1</td>\n      <td>Marketa Vondrousova</td>\n      <td>Ons Jabeur</td>\n      <td>1:18:48</td>\n      <td>2</td>\n      <td>10</td>\n      <td>122</td>\n      <td>NaN</td>\n      <td>NaN</td>\n      <td>5</td>\n      <td>...</td>\n      <td>0</td>\n      <td>NaN</td>\n      <td>NaN</td>\n      <td>NaN</td>\n      <td>NaN</td>\n      <td>NaN</td>\n      <td>NaN</td>\n      <td>NaN</td>\n      <td>NaN</td>\n      <td>NaN</td>\n    </tr>\n    <tr>\n      <th>122</th>\n      <td>1</td>\n      <td>Marketa Vondrousova</td>\n      <td>Ons Jabeur</td>\n      <td>1:19:16</td>\n      <td>2</td>\n      <td>10</td>\n      <td>123</td>\n      <td>NaN</td>\n      <td>NaN</td>\n      <td>5</td>\n      <td>...</td>\n      <td>0</td>\n      <td>NaN</td>\n      <td>NaN</td>\n      <td>NaN</td>\n      <td>NaN</td>\n      <td>NaN</td>\n      <td>NaN</td>\n      <td>NaN</td>\n      <td>NaN</td>\n      <td>NaN</td>\n    </tr>\n    <tr>\n      <th>123</th>\n      <td>1</td>\n      <td>Marketa Vondrousova</td>\n      <td>Ons Jabeur</td>\n      <td>1:19:57</td>\n      <td>2</td>\n      <td>10</td>\n      <td>124</td>\n      <td>NaN</td>\n      <td>NaN</td>\n      <td>5</td>\n      <td>...</td>\n      <td>0</td>\n      <td>NaN</td>\n      <td>NaN</td>\n      <td>NaN</td>\n      <td>NaN</td>\n      <td>NaN</td>\n      <td>NaN</td>\n      <td>NaN</td>\n      <td>NaN</td>\n      <td>NaN</td>\n    </tr>\n    <tr>\n      <th>124</th>\n      <td>1</td>\n      <td>Marketa Vondrousova</td>\n      <td>Ons Jabeur</td>\n      <td>1:20:28</td>\n      <td>2</td>\n      <td>10</td>\n      <td>125</td>\n      <td>NaN</td>\n      <td>NaN</td>\n      <td>6</td>\n      <td>...</td>\n      <td>0</td>\n      <td>NaN</td>\n      <td>NaN</td>\n      <td>NaN</td>\n      <td>NaN</td>\n      <td>NaN</td>\n      <td>NaN</td>\n      <td>NaN</td>\n      <td>NaN</td>\n      <td>NaN</td>\n    </tr>\n  </tbody>\n</table>\n<p>125 rows × 46 columns</p>\n</div>"
     },
     "execution_count": 65,
     "metadata": {},
     "output_type": "execute_result"
    }
   ],
   "source": [
    "for i in range(len(data_raw)):\n",
    "       if data_raw.loc[i,'server'] == 1:\n",
    "              data_raw.loc[i,'serve_no'] = 1+ data_raw.loc[i,'p1_double_fault']\n",
    "       else:\n",
    "              data_raw.loc[i,'serve_no'] = 1+ data_raw.loc[i,'p2_double_fault']\n",
    "data_raw"
   ],
   "metadata": {
    "collapsed": false,
    "pycharm": {
     "name": "#%%\n"
    }
   }
  },
  {
   "cell_type": "code",
   "execution_count": 66,
   "outputs": [
    {
     "data": {
      "text/plain": "     match_id              player1     player2 elapsed_time  set_no  game_no  \\\n0           1  Marketa Vondrousova  Ons Jabeur      0:00:00       1        1   \n1           1  Marketa Vondrousova  Ons Jabeur      0:00:22       1        1   \n2           1  Marketa Vondrousova  Ons Jabeur      0:01:36       1        1   \n3           1  Marketa Vondrousova  Ons Jabeur      0:02:05       1        1   \n4           1  Marketa Vondrousova  Ons Jabeur      0:03:24       1        1   \n..        ...                  ...         ...          ...     ...      ...   \n120         1  Marketa Vondrousova  Ons Jabeur      1:18:13       2       10   \n121         1  Marketa Vondrousova  Ons Jabeur      1:18:48       2       10   \n122         1  Marketa Vondrousova  Ons Jabeur      1:19:16       2       10   \n123         1  Marketa Vondrousova  Ons Jabeur      1:19:57       2       10   \n124         1  Marketa Vondrousova  Ons Jabeur      1:20:28       2       10   \n\n     point_no  p1_sets  p2_sets  p1_games  ...  p2_break_pt_won  \\\n0           1      NaN      NaN         0  ...                0   \n1           2      NaN      NaN         0  ...                0   \n2           3      NaN      NaN         0  ...                0   \n3           4      NaN      NaN         0  ...                0   \n4           5      NaN      NaN         0  ...                0   \n..        ...      ...      ...       ...  ...              ...   \n120       121      NaN      NaN         5  ...                0   \n121       122      NaN      NaN         5  ...                0   \n122       123      NaN      NaN         5  ...                0   \n123       124      NaN      NaN         5  ...                0   \n124       125      NaN      NaN         6  ...                0   \n\n     p1_break_pt_missed  p2_break_pt_missed  p1_distance_run  p2_distance_run  \\\n0                   NaN                 NaN              NaN              NaN   \n1                   NaN                 NaN              NaN              NaN   \n2                   NaN                 NaN              NaN              NaN   \n3                   NaN                 NaN              NaN              NaN   \n4                   NaN                 NaN              NaN              NaN   \n..                  ...                 ...              ...              ...   \n120                 NaN                 NaN              NaN              NaN   \n121                 NaN                 NaN              NaN              NaN   \n122                 NaN                 NaN              NaN              NaN   \n123                 NaN                 NaN              NaN              NaN   \n124                 NaN                 NaN              NaN              NaN   \n\n     rally_count  speed_mph  serve_width  serve_depth  return_depth  \n0            NaN        NaN          NaN          NaN           NaN  \n1            NaN        NaN          NaN          NaN           NaN  \n2            NaN        NaN          NaN          NaN           NaN  \n3            NaN        NaN          NaN          NaN           NaN  \n4            NaN        NaN          NaN          NaN           NaN  \n..           ...        ...          ...          ...           ...  \n120          NaN        NaN          NaN          NaN           NaN  \n121          NaN        NaN          NaN          NaN           NaN  \n122          NaN        NaN          NaN          NaN           NaN  \n123          NaN        NaN          NaN          NaN           NaN  \n124          NaN        NaN          NaN          NaN           NaN  \n\n[125 rows x 46 columns]",
      "text/html": "<div>\n<style scoped>\n    .dataframe tbody tr th:only-of-type {\n        vertical-align: middle;\n    }\n\n    .dataframe tbody tr th {\n        vertical-align: top;\n    }\n\n    .dataframe thead th {\n        text-align: right;\n    }\n</style>\n<table border=\"1\" class=\"dataframe\">\n  <thead>\n    <tr style=\"text-align: right;\">\n      <th></th>\n      <th>match_id</th>\n      <th>player1</th>\n      <th>player2</th>\n      <th>elapsed_time</th>\n      <th>set_no</th>\n      <th>game_no</th>\n      <th>point_no</th>\n      <th>p1_sets</th>\n      <th>p2_sets</th>\n      <th>p1_games</th>\n      <th>...</th>\n      <th>p2_break_pt_won</th>\n      <th>p1_break_pt_missed</th>\n      <th>p2_break_pt_missed</th>\n      <th>p1_distance_run</th>\n      <th>p2_distance_run</th>\n      <th>rally_count</th>\n      <th>speed_mph</th>\n      <th>serve_width</th>\n      <th>serve_depth</th>\n      <th>return_depth</th>\n    </tr>\n  </thead>\n  <tbody>\n    <tr>\n      <th>0</th>\n      <td>1</td>\n      <td>Marketa Vondrousova</td>\n      <td>Ons Jabeur</td>\n      <td>0:00:00</td>\n      <td>1</td>\n      <td>1</td>\n      <td>1</td>\n      <td>NaN</td>\n      <td>NaN</td>\n      <td>0</td>\n      <td>...</td>\n      <td>0</td>\n      <td>NaN</td>\n      <td>NaN</td>\n      <td>NaN</td>\n      <td>NaN</td>\n      <td>NaN</td>\n      <td>NaN</td>\n      <td>NaN</td>\n      <td>NaN</td>\n      <td>NaN</td>\n    </tr>\n    <tr>\n      <th>1</th>\n      <td>1</td>\n      <td>Marketa Vondrousova</td>\n      <td>Ons Jabeur</td>\n      <td>0:00:22</td>\n      <td>1</td>\n      <td>1</td>\n      <td>2</td>\n      <td>NaN</td>\n      <td>NaN</td>\n      <td>0</td>\n      <td>...</td>\n      <td>0</td>\n      <td>NaN</td>\n      <td>NaN</td>\n      <td>NaN</td>\n      <td>NaN</td>\n      <td>NaN</td>\n      <td>NaN</td>\n      <td>NaN</td>\n      <td>NaN</td>\n      <td>NaN</td>\n    </tr>\n    <tr>\n      <th>2</th>\n      <td>1</td>\n      <td>Marketa Vondrousova</td>\n      <td>Ons Jabeur</td>\n      <td>0:01:36</td>\n      <td>1</td>\n      <td>1</td>\n      <td>3</td>\n      <td>NaN</td>\n      <td>NaN</td>\n      <td>0</td>\n      <td>...</td>\n      <td>0</td>\n      <td>NaN</td>\n      <td>NaN</td>\n      <td>NaN</td>\n      <td>NaN</td>\n      <td>NaN</td>\n      <td>NaN</td>\n      <td>NaN</td>\n      <td>NaN</td>\n      <td>NaN</td>\n    </tr>\n    <tr>\n      <th>3</th>\n      <td>1</td>\n      <td>Marketa Vondrousova</td>\n      <td>Ons Jabeur</td>\n      <td>0:02:05</td>\n      <td>1</td>\n      <td>1</td>\n      <td>4</td>\n      <td>NaN</td>\n      <td>NaN</td>\n      <td>0</td>\n      <td>...</td>\n      <td>0</td>\n      <td>NaN</td>\n      <td>NaN</td>\n      <td>NaN</td>\n      <td>NaN</td>\n      <td>NaN</td>\n      <td>NaN</td>\n      <td>NaN</td>\n      <td>NaN</td>\n      <td>NaN</td>\n    </tr>\n    <tr>\n      <th>4</th>\n      <td>1</td>\n      <td>Marketa Vondrousova</td>\n      <td>Ons Jabeur</td>\n      <td>0:03:24</td>\n      <td>1</td>\n      <td>1</td>\n      <td>5</td>\n      <td>NaN</td>\n      <td>NaN</td>\n      <td>0</td>\n      <td>...</td>\n      <td>0</td>\n      <td>NaN</td>\n      <td>NaN</td>\n      <td>NaN</td>\n      <td>NaN</td>\n      <td>NaN</td>\n      <td>NaN</td>\n      <td>NaN</td>\n      <td>NaN</td>\n      <td>NaN</td>\n    </tr>\n    <tr>\n      <th>...</th>\n      <td>...</td>\n      <td>...</td>\n      <td>...</td>\n      <td>...</td>\n      <td>...</td>\n      <td>...</td>\n      <td>...</td>\n      <td>...</td>\n      <td>...</td>\n      <td>...</td>\n      <td>...</td>\n      <td>...</td>\n      <td>...</td>\n      <td>...</td>\n      <td>...</td>\n      <td>...</td>\n      <td>...</td>\n      <td>...</td>\n      <td>...</td>\n      <td>...</td>\n      <td>...</td>\n    </tr>\n    <tr>\n      <th>120</th>\n      <td>1</td>\n      <td>Marketa Vondrousova</td>\n      <td>Ons Jabeur</td>\n      <td>1:18:13</td>\n      <td>2</td>\n      <td>10</td>\n      <td>121</td>\n      <td>NaN</td>\n      <td>NaN</td>\n      <td>5</td>\n      <td>...</td>\n      <td>0</td>\n      <td>NaN</td>\n      <td>NaN</td>\n      <td>NaN</td>\n      <td>NaN</td>\n      <td>NaN</td>\n      <td>NaN</td>\n      <td>NaN</td>\n      <td>NaN</td>\n      <td>NaN</td>\n    </tr>\n    <tr>\n      <th>121</th>\n      <td>1</td>\n      <td>Marketa Vondrousova</td>\n      <td>Ons Jabeur</td>\n      <td>1:18:48</td>\n      <td>2</td>\n      <td>10</td>\n      <td>122</td>\n      <td>NaN</td>\n      <td>NaN</td>\n      <td>5</td>\n      <td>...</td>\n      <td>0</td>\n      <td>NaN</td>\n      <td>NaN</td>\n      <td>NaN</td>\n      <td>NaN</td>\n      <td>NaN</td>\n      <td>NaN</td>\n      <td>NaN</td>\n      <td>NaN</td>\n      <td>NaN</td>\n    </tr>\n    <tr>\n      <th>122</th>\n      <td>1</td>\n      <td>Marketa Vondrousova</td>\n      <td>Ons Jabeur</td>\n      <td>1:19:16</td>\n      <td>2</td>\n      <td>10</td>\n      <td>123</td>\n      <td>NaN</td>\n      <td>NaN</td>\n      <td>5</td>\n      <td>...</td>\n      <td>0</td>\n      <td>NaN</td>\n      <td>NaN</td>\n      <td>NaN</td>\n      <td>NaN</td>\n      <td>NaN</td>\n      <td>NaN</td>\n      <td>NaN</td>\n      <td>NaN</td>\n      <td>NaN</td>\n    </tr>\n    <tr>\n      <th>123</th>\n      <td>1</td>\n      <td>Marketa Vondrousova</td>\n      <td>Ons Jabeur</td>\n      <td>1:19:57</td>\n      <td>2</td>\n      <td>10</td>\n      <td>124</td>\n      <td>NaN</td>\n      <td>NaN</td>\n      <td>5</td>\n      <td>...</td>\n      <td>0</td>\n      <td>NaN</td>\n      <td>NaN</td>\n      <td>NaN</td>\n      <td>NaN</td>\n      <td>NaN</td>\n      <td>NaN</td>\n      <td>NaN</td>\n      <td>NaN</td>\n      <td>NaN</td>\n    </tr>\n    <tr>\n      <th>124</th>\n      <td>1</td>\n      <td>Marketa Vondrousova</td>\n      <td>Ons Jabeur</td>\n      <td>1:20:28</td>\n      <td>2</td>\n      <td>10</td>\n      <td>125</td>\n      <td>NaN</td>\n      <td>NaN</td>\n      <td>6</td>\n      <td>...</td>\n      <td>0</td>\n      <td>NaN</td>\n      <td>NaN</td>\n      <td>NaN</td>\n      <td>NaN</td>\n      <td>NaN</td>\n      <td>NaN</td>\n      <td>NaN</td>\n      <td>NaN</td>\n      <td>NaN</td>\n    </tr>\n  </tbody>\n</table>\n<p>125 rows × 46 columns</p>\n</div>"
     },
     "execution_count": 66,
     "metadata": {},
     "output_type": "execute_result"
    }
   ],
   "source": [
    "data_raw"
   ],
   "metadata": {
    "collapsed": false,
    "pycharm": {
     "name": "#%%\n"
    }
   }
  },
  {
   "cell_type": "code",
   "execution_count": 67,
   "outputs": [],
   "source": [
    "data_raw.to_csv('2023 w/Wimbledon_featured_matches_processed.csv')"
   ],
   "metadata": {
    "collapsed": false,
    "pycharm": {
     "name": "#%%\n"
    }
   }
  },
  {
   "cell_type": "code",
   "execution_count": 118,
   "outputs": [],
   "source": [
    "data_info = data_raw[['match_id','player1','player2','elapsed_time','set_no','game_no','point_no','p1_sets', 'p2_sets', 'p1_games', 'p2_games', 'p1_score',\n",
    "       'p2_score','point_victor', 'p1_points_won','p2_points_won', 'game_victor', 'set_victor']]"
   ],
   "metadata": {
    "collapsed": false,
    "pycharm": {
     "name": "#%%\n"
    }
   }
  },
  {
   "cell_type": "code",
   "execution_count": 119,
   "outputs": [],
   "source": [
    "data_serve = data_raw[['match_id','set_no','game_no','point_no','server', 'serve_no','p1_double_fault','p2_double_fault']]"
   ],
   "metadata": {
    "collapsed": false,
    "pycharm": {
     "name": "#%%\n"
    }
   }
  },
  {
   "cell_type": "code",
   "execution_count": 120,
   "outputs": [],
   "source": [
    "data_performance = data_raw[['match_id','set_no','game_no','point_no', 'p1_ace', 'p2_ace','p1_winner', 'p2_winner', 'winner_shot_type']]"
   ],
   "metadata": {
    "collapsed": false,
    "pycharm": {
     "name": "#%%\n"
    }
   }
  },
  {
   "cell_type": "code",
   "execution_count": 121,
   "outputs": [],
   "source": [
    "data_error = data_raw[['match_id','set_no','game_no','point_no','p1_double_fault', 'p2_double_fault', 'p1_unf_err', 'p2_unf_err']]"
   ],
   "metadata": {
    "collapsed": false,
    "pycharm": {
     "name": "#%%\n"
    }
   }
  },
  {
   "cell_type": "code",
   "execution_count": 122,
   "outputs": [],
   "source": [
    "data_net = data_raw[['match_id','set_no','game_no','point_no','p1_net_pt', 'p2_net_pt', 'p1_net_pt_won', 'p2_net_pt_won']]"
   ],
   "metadata": {
    "collapsed": false,
    "pycharm": {
     "name": "#%%\n"
    }
   }
  },
  {
   "cell_type": "code",
   "execution_count": 123,
   "outputs": [],
   "source": [
    "data_break = data_raw[['match_id','set_no','game_no','point_no','p1_break_pt', 'p2_break_pt',\n",
    "       'p1_break_pt_won', 'p2_break_pt_won', 'p1_break_pt_missed','p2_break_pt_missed']]"
   ],
   "metadata": {
    "collapsed": false,
    "pycharm": {
     "name": "#%%\n"
    }
   }
  },
  {
   "cell_type": "code",
   "execution_count": 125,
   "outputs": [],
   "source": [
    "data_details = data_raw[['match_id','set_no','game_no','point_no','p1_distance_run', 'p2_distance_run',\n",
    "       'rally_count', 'speed_mph', 'serve_width_B', 'serve_width_BC', 'serve_width_BW',\n",
    "       'serve_width_C', 'serve_width_W', 'serve_depth_new',\n",
    "       'return_depth_new']]"
   ],
   "metadata": {
    "collapsed": false,
    "pycharm": {
     "name": "#%%\n"
    }
   }
  },
  {
   "cell_type": "code",
   "execution_count": 169,
   "outputs": [],
   "source": [
    "match_num = 1\n",
    "match_row = data_raw['match_id'] == match_num"
   ],
   "metadata": {
    "collapsed": false,
    "pycharm": {
     "name": "#%%\n"
    }
   }
  },
  {
   "cell_type": "code",
   "execution_count": 170,
   "outputs": [],
   "source": [
    "import matplotlib.pyplot as plt"
   ],
   "metadata": {
    "collapsed": false,
    "pycharm": {
     "name": "#%%\n"
    }
   }
  },
  {
   "cell_type": "markdown",
   "source": [
    "两个选手赢的局数"
   ],
   "metadata": {
    "collapsed": false,
    "pycharm": {
     "name": "#%% md\n"
    }
   }
  },
  {
   "cell_type": "code",
   "execution_count": 171,
   "outputs": [],
   "source": [
    "match_info = data_info[match_row]"
   ],
   "metadata": {
    "collapsed": false,
    "pycharm": {
     "name": "#%%\n"
    }
   }
  },
  {
   "cell_type": "code",
   "execution_count": 172,
   "outputs": [],
   "source": [
    "p1 = match_info['p1_points_won']\n",
    "p2 = match_info['p2_points_won']\n",
    "points = match_info['point_no']"
   ],
   "metadata": {
    "collapsed": false,
    "pycharm": {
     "name": "#%%\n"
    }
   }
  },
  {
   "cell_type": "code",
   "execution_count": 173,
   "outputs": [
    {
     "data": {
      "text/plain": "<matplotlib.legend.Legend at 0x2501b71dac0>"
     },
     "execution_count": 173,
     "metadata": {},
     "output_type": "execute_result"
    },
    {
     "data": {
      "text/plain": "<Figure size 640x480 with 1 Axes>",
      "image/png": "[encoded data removed]"
     },
     "metadata": {},
     "output_type": "display_data"
    }
   ],
   "source": [
    "plt.plot(points,p1,label='p1')\n",
    "plt.plot(points,p2,label='p2')\n",
    "plt.legend()"
   ],
   "metadata": {
    "collapsed": false,
    "pycharm": {
     "name": "#%%\n"
    }
   }
  },
  {
   "cell_type": "code",
   "execution_count": 174,
   "outputs": [],
   "source": [
    "plt.close()"
   ],
   "metadata": {
    "collapsed": false,
    "pycharm": {
     "name": "#%%\n"
    }
   }
  },
  {
   "cell_type": "markdown",
   "source": [
    "serve"
   ],
   "metadata": {
    "collapsed": false,
    "pycharm": {
     "name": "#%% md\n"
    }
   }
  },
  {
   "cell_type": "code",
   "execution_count": 175,
   "outputs": [],
   "source": [
    "match_serve = data_serve[match_row]\n",
    "p1_server = match_serve['server'] == 1 # p1先手\n",
    "p2_server = match_serve['server'] == 2 # p2先手"
   ],
   "metadata": {
    "collapsed": false,
    "pycharm": {
     "name": "#%%\n"
    }
   }
  },
  {
   "cell_type": "code",
   "execution_count": 176,
   "outputs": [],
   "source": [
    "p1_server_win = match_info[p1_server]['point_victor'] # p1 先手，赢球的\n",
    "p2_server_win = match_info[p2_server]['point_victor'] # p2 先手， 赢球的"
   ],
   "metadata": {
    "collapsed": false,
    "pycharm": {
     "name": "#%%\n"
    }
   }
  },
  {
   "cell_type": "code",
   "execution_count": 177,
   "outputs": [],
   "source": [
    "# p1\n",
    "p1_winAndserver = (p1_server_win == 1).sum() # p1先发球，且赢了比赛\n",
    "p1_lossAndserver = len(p1_server_win) - p1_winAndserver\n",
    "# p2\n",
    "p2_winAndserver = (p2_server_win == 2).sum() # p2 先手，且赢了比赛\n",
    "p2_lossAndserver = len(p2_server_win) - p2_winAndserver"
   ],
   "metadata": {
    "collapsed": false,
    "pycharm": {
     "name": "#%%\n"
    }
   }
  },
  {
   "cell_type": "code",
   "execution_count": 178,
   "outputs": [
    {
     "data": {
      "text/plain": "<Figure size 640x480 with 1 Axes>",
      "image/png": "[encoded data removed]"
     },
     "metadata": {},
     "output_type": "display_data"
    }
   ],
   "source": [
    "# 示例数据\n",
    "player1_win = p1_winAndserver\n",
    "player1_lose = p1_lossAndserver\n",
    "player2_win = p2_winAndserver\n",
    "player2_lose = p2_lossAndserver\n",
    "# 设置柱状图的位置和宽度\n",
    "bar_positions = [1, 2, 3,4]\n",
    "bar_width = 0.4\n",
    "# 绘制柱状图\n",
    "plt.bar(bar_positions[0:2], [player1_win, player1_lose], width=bar_width, label='player1 server', alpha=0.7)\n",
    "plt.bar(bar_positions[2:], [player2_win,player2_lose], width=bar_width, label='player2 server', alpha=0.7)\n",
    "\n",
    "# 添加标签和标题\n",
    "plt.ylabel('Count')\n",
    "# 设置x轴刻度\n",
    "plt.xticks([pos + bar_width/2 for pos in bar_positions], ['player1 win', 'player1 lose','player2 win', 'player2 lose'])\n",
    "# 添加图例\n",
    "plt.legend()\n",
    "# 显示图形\n",
    "plt.show()\n"
   ],
   "metadata": {
    "collapsed": false,
    "pycharm": {
     "name": "#%%\n"
    }
   }
  },
  {
   "cell_type": "code",
   "execution_count": 179,
   "outputs": [
    {
     "data": {
      "text/plain": "Index(['match_id', 'player1', 'player2', 'elapsed_time', 'set_no', 'game_no',\n       'point_no', 'p1_sets', 'p2_sets', 'p1_games', 'p2_games', 'p1_score',\n       'p2_score', 'server', 'serve_no', 'point_victor', 'p1_points_won',\n       'p2_points_won', 'game_victor', 'set_victor', 'p1_ace', 'p2_ace',\n       'p1_winner', 'p2_winner', 'winner_shot_type', 'p1_double_fault',\n       'p2_double_fault', 'p1_unf_err', 'p2_unf_err', 'p1_net_pt', 'p2_net_pt',\n       'p1_net_pt_won', 'p2_net_pt_won', 'p1_break_pt', 'p2_break_pt',\n       'p1_break_pt_won', 'p2_break_pt_won', 'p1_break_pt_missed',\n       'p2_break_pt_missed', 'p1_distance_run', 'p2_distance_run',\n       'rally_count', 'speed_mph', 'serve_width', 'serve_depth',\n       'return_depth', 'serve_width_B', 'serve_width_BC', 'serve_width_BW',\n       'serve_width_C', 'serve_width_W', 'serve_depth_new',\n       'return_depth_new'],\n      dtype='object')"
     },
     "execution_count": 179,
     "metadata": {},
     "output_type": "execute_result"
    }
   ],
   "source": [
    "data_raw.columns"
   ],
   "metadata": {
    "collapsed": false,
    "pycharm": {
     "name": "#%%\n"
    }
   }
  },
  {
   "cell_type": "code",
   "execution_count": 183,
   "outputs": [],
   "source": [
    "set1 = match_info['set_no']==1 # 第一个set"
   ],
   "metadata": {
    "collapsed": false,
    "pycharm": {
     "name": "#%%\n"
    }
   }
  },
  {
   "cell_type": "markdown",
   "source": [
    "ace"
   ],
   "metadata": {
    "collapsed": false,
    "pycharm": {
     "name": "#%% md\n"
    }
   }
  },
  {
   "cell_type": "code",
   "execution_count": 184,
   "outputs": [],
   "source": [
    "match_performance = data_performance[match_row]\n",
    "set1_performance = match_performance[set1]"
   ],
   "metadata": {
    "collapsed": false,
    "pycharm": {
     "name": "#%%\n"
    }
   }
  },
  {
   "cell_type": "code",
   "execution_count": 187,
   "outputs": [
    {
     "data": {
      "text/plain": "3"
     },
     "execution_count": 187,
     "metadata": {},
     "output_type": "execute_result"
    }
   ],
   "source": [
    "p1_ace = set1_performance['p1_ace'].sum()\n",
    "p1_ace"
   ],
   "metadata": {
    "collapsed": false,
    "pycharm": {
     "name": "#%%\n"
    }
   }
  },
  {
   "cell_type": "code",
   "execution_count": 188,
   "outputs": [
    {
     "data": {
      "text/plain": "3"
     },
     "execution_count": 188,
     "metadata": {},
     "output_type": "execute_result"
    }
   ],
   "source": [
    "p2_ace = set1_performance['p2_ace'].sum()\n",
    "p2_ace"
   ],
   "metadata": {
    "collapsed": false,
    "pycharm": {
     "name": "#%%\n"
    }
   }
  },
  {
   "cell_type": "markdown",
   "source": [
    "double fault"
   ],
   "metadata": {
    "collapsed": false,
    "pycharm": {
     "name": "#%% md\n"
    }
   }
  },
  {
   "cell_type": "code",
   "execution_count": 189,
   "outputs": [],
   "source": [
    "match_error = data_error[match_row]\n",
    "set1_error = match_error[set1]"
   ],
   "metadata": {
    "collapsed": false,
    "pycharm": {
     "name": "#%%\n"
    }
   }
  },
  {
   "cell_type": "code",
   "execution_count": 191,
   "outputs": [
    {
     "data": {
      "text/plain": "0"
     },
     "execution_count": 191,
     "metadata": {},
     "output_type": "execute_result"
    }
   ],
   "source": [
    "p1_double_fault = set1_error['p1_double_fault'].sum()\n",
    "p1_double_fault"
   ],
   "metadata": {
    "collapsed": false,
    "pycharm": {
     "name": "#%%\n"
    }
   }
  },
  {
   "cell_type": "code",
   "execution_count": 192,
   "outputs": [
    {
     "data": {
      "text/plain": "1"
     },
     "execution_count": 192,
     "metadata": {},
     "output_type": "execute_result"
    }
   ],
   "source": [
    "p2_double_fault = set1_error['p2_double_fault'].sum()\n",
    "p2_double_fault"
   ],
   "metadata": {
    "collapsed": false,
    "pycharm": {
     "name": "#%%\n"
    }
   }
  },
  {
   "cell_type": "markdown",
   "source": [
    "1st serve in"
   ],
   "metadata": {
    "collapsed": false,
    "pycharm": {
     "name": "#%% md\n"
    }
   }
  },
  {
   "cell_type": "code",
   "execution_count": 219,
   "outputs": [],
   "source": [
    "set1_serve = match_serve[set1]"
   ],
   "metadata": {
    "collapsed": false,
    "pycharm": {
     "name": "#%%\n"
    }
   }
  },
  {
   "cell_type": "code",
   "execution_count": 220,
   "outputs": [],
   "source": [
    "p1_serve = set1_serve['server'] == 1"
   ],
   "metadata": {
    "collapsed": false,
    "pycharm": {
     "name": "#%%\n"
    }
   }
  },
  {
   "cell_type": "code",
   "execution_count": 221,
   "outputs": [],
   "source": [
    "p2_serve = set1_serve['server'] == 2"
   ],
   "metadata": {
    "collapsed": false,
    "pycharm": {
     "name": "#%%\n"
    }
   }
  },
  {
   "cell_type": "code",
   "execution_count": 222,
   "outputs": [
    {
     "data": {
      "text/plain": "(0.7, 28)"
     },
     "execution_count": 222,
     "metadata": {},
     "output_type": "execute_result"
    }
   ],
   "source": [
    "p1_stServeIn = (set1_serve[p1_serve]['serve_no'] == 1).sum() / p1_serve.sum()\n",
    "p1_stServeIn,(set1_serve[p1_serve]['serve_no'] == 1).sum()"
   ],
   "metadata": {
    "collapsed": false,
    "pycharm": {
     "name": "#%%\n"
    }
   }
  },
  {
   "cell_type": "code",
   "execution_count": 223,
   "outputs": [
    {
     "data": {
      "text/plain": "(0.6521739130434783, 15)"
     },
     "execution_count": 223,
     "metadata": {},
     "output_type": "execute_result"
    }
   ],
   "source": [
    "p2_stServeIn = (set1_serve[p2_serve]['serve_no'] == 1).sum() / p2_serve.sum()\n",
    "p2_stServeIn,(set1_serve[p2_serve]['serve_no'] == 1).sum()"
   ],
   "metadata": {
    "collapsed": false,
    "pycharm": {
     "name": "#%%\n"
    }
   }
  },
  {
   "cell_type": "markdown",
   "source": [
    "1st server won"
   ],
   "metadata": {
    "collapsed": false,
    "pycharm": {
     "name": "#%% md\n"
    }
   }
  },
  {
   "cell_type": "code",
   "execution_count": 224,
   "outputs": [],
   "source": [
    "match_data = data_raw[match_row]"
   ],
   "metadata": {
    "collapsed": false,
    "pycharm": {
     "name": "#%%\n"
    }
   }
  },
  {
   "cell_type": "code",
   "execution_count": 225,
   "outputs": [],
   "source": [
    "set1_data = match_data[set1]"
   ],
   "metadata": {
    "collapsed": false,
    "pycharm": {
     "name": "#%%\n"
    }
   }
  },
  {
   "cell_type": "code",
   "execution_count": 226,
   "outputs": [],
   "source": [
    "p1_serve_data = set1_data[set1_data['server']==1]\n",
    "p2_serve_data = set1_data[set1_data['server']==2]"
   ],
   "metadata": {
    "collapsed": false,
    "pycharm": {
     "name": "#%%\n"
    }
   }
  },
  {
   "cell_type": "code",
   "execution_count": 227,
   "outputs": [],
   "source": [
    "p1_serve_success = p1_serve_data[p1_serve_data['serve_no'] == 1]\n",
    "p2_serve_success = p2_serve_data[p2_serve_data['serve_no'] == 1]\n",
    "p1_serve_success_won = p1_serve_success[p1_serve_success['point_victor'] == 1]\n",
    "p2_serve_success_won = p2_serve_success[p2_serve_success['point_victor'] == 2]"
   ],
   "metadata": {
    "collapsed": false,
    "pycharm": {
     "name": "#%%\n"
    }
   }
  },
  {
   "cell_type": "code",
   "execution_count": 228,
   "outputs": [
    {
     "data": {
      "text/plain": "(0.7857142857142857, 22, 28)"
     },
     "execution_count": 228,
     "metadata": {},
     "output_type": "execute_result"
    }
   ],
   "source": [
    "p1_stServeWin = len(p1_serve_success_won) / len(p1_serve_success)\n",
    "p1_stServeWin,len(p1_serve_success_won),len(p1_serve_success)"
   ],
   "metadata": {
    "collapsed": false,
    "pycharm": {
     "name": "#%%\n"
    }
   }
  },
  {
   "cell_type": "code",
   "execution_count": 229,
   "outputs": [
    {
     "data": {
      "text/plain": "(0.8666666666666667, 13, 15)"
     },
     "execution_count": 229,
     "metadata": {},
     "output_type": "execute_result"
    }
   ],
   "source": [
    "p2_stServeWin = len(p2_serve_success_won) / len(p2_serve_success)\n",
    "p2_stServeWin,len(p2_serve_success_won),len(p2_serve_success)"
   ],
   "metadata": {
    "collapsed": false,
    "pycharm": {
     "name": "#%%\n"
    }
   }
  },
  {
   "cell_type": "markdown",
   "source": [
    "2nd serve in"
   ],
   "metadata": {
    "collapsed": false,
    "pycharm": {
     "name": "#%% md\n"
    }
   }
  },
  {
   "cell_type": "code",
   "execution_count": 230,
   "outputs": [],
   "source": [
    "p1_serve_2 = p1_serve_data[p1_serve_data['serve_no']==2]\n",
    "p1_doubt_fault = set1_data['p1_double_fault'].sum()\n",
    "p2_serve_2 = p2_serve_data[p2_serve_data['serve_no']==2]\n",
    "p2_double_fault = set1_data['p2_double_fault'].sum()"
   ],
   "metadata": {
    "collapsed": false,
    "pycharm": {
     "name": "#%%\n"
    }
   }
  },
  {
   "cell_type": "code",
   "execution_count": 233,
   "outputs": [
    {
     "data": {
      "text/plain": "1.0"
     },
     "execution_count": 233,
     "metadata": {},
     "output_type": "execute_result"
    }
   ],
   "source": [
    "p1_2nd_serveIn = (len(p1_serve_2) - p1_double_fault )/ len(p1_serve_2)\n",
    "p1_2nd_serveIn"
   ],
   "metadata": {
    "collapsed": false,
    "pycharm": {
     "name": "#%%\n"
    }
   }
  },
  {
   "cell_type": "code",
   "execution_count": 236,
   "outputs": [
    {
     "data": {
      "text/plain": "0.875"
     },
     "execution_count": 236,
     "metadata": {},
     "output_type": "execute_result"
    }
   ],
   "source": [
    "p2_2nd_serveIn = (len(p2_serve_2) - p2_double_fault )/ len(p2_serve_2)\n",
    "p2_2nd_serveIn"
   ],
   "metadata": {
    "collapsed": false,
    "pycharm": {
     "name": "#%%\n"
    }
   }
  },
  {
   "cell_type": "markdown",
   "source": [
    "2nd serve in win"
   ],
   "metadata": {
    "collapsed": false,
    "pycharm": {
     "name": "#%% md\n"
    }
   }
  },
  {
   "cell_type": "code",
   "execution_count": 237,
   "outputs": [
    {
     "data": {
      "text/plain": "0.3333333333333333"
     },
     "execution_count": 237,
     "metadata": {},
     "output_type": "execute_result"
    }
   ],
   "source": [
    "p1_serve_2_win = (p1_serve_2['point_victor']==1).sum() / (len(p1_serve_2) - p1_double_fault)\n",
    "p1_serve_2_win"
   ],
   "metadata": {
    "collapsed": false,
    "pycharm": {
     "name": "#%%\n"
    }
   }
  },
  {
   "cell_type": "code",
   "execution_count": 250,
   "outputs": [
    {
     "data": {
      "text/plain": "(0.2857142857142857, 2)"
     },
     "execution_count": 250,
     "metadata": {},
     "output_type": "execute_result"
    }
   ],
   "source": [
    "p2_serve_2_win = (p2_serve_2['point_victor']==2).sum() / (len(p2_serve_2) - p2_double_fault)\n",
    "p2_serve_2_win,"
   ],
   "metadata": {
    "collapsed": false,
    "pycharm": {
     "name": "#%%\n"
    }
   }
  },
  {
   "cell_type": "markdown",
   "source": [
    "break point won"
   ],
   "metadata": {
    "collapsed": false,
    "pycharm": {
     "name": "#%% md\n"
    }
   }
  },
  {
   "cell_type": "code",
   "execution_count": 239,
   "outputs": [
    {
     "data": {
      "text/plain": "(1, 1)"
     },
     "execution_count": 239,
     "metadata": {},
     "output_type": "execute_result"
    }
   ],
   "source": [
    "break_point_1 = set1_data['p1_break_pt'].sum()\n",
    "break_point_won_1 = set1_data['p1_break_pt_won'].sum()\n",
    "break_point_1,break_point_won_1"
   ],
   "metadata": {
    "collapsed": false,
    "pycharm": {
     "name": "#%%\n"
    }
   }
  },
  {
   "cell_type": "code",
   "execution_count": 240,
   "outputs": [
    {
     "data": {
      "text/plain": "(1, 0)"
     },
     "execution_count": 240,
     "metadata": {},
     "output_type": "execute_result"
    }
   ],
   "source": [
    "break_point_2 = set1_data['p2_break_pt'].sum()\n",
    "break_point_won_2 = set1_data['p2_break_pt_won'].sum()\n",
    "break_point_2,break_point_won_2"
   ],
   "metadata": {
    "collapsed": false,
    "pycharm": {
     "name": "#%%\n"
    }
   }
  },
  {
   "cell_type": "markdown",
   "source": [
    "net approach won"
   ],
   "metadata": {
    "collapsed": false,
    "pycharm": {
     "name": "#%% md\n"
    }
   }
  },
  {
   "cell_type": "code",
   "execution_count": 243,
   "outputs": [
    {
     "data": {
      "text/plain": "(8, 6)"
     },
     "execution_count": 243,
     "metadata": {},
     "output_type": "execute_result"
    }
   ],
   "source": [
    "net_1 = set1_data['p1_net_pt'].sum()\n",
    "net_1_won = set1_data['p1_net_pt_won'].sum()\n",
    "net_1,net_1_won"
   ],
   "metadata": {
    "collapsed": false,
    "pycharm": {
     "name": "#%%\n"
    }
   }
  },
  {
   "cell_type": "code",
   "execution_count": 244,
   "outputs": [
    {
     "data": {
      "text/plain": "(10, 4)"
     },
     "execution_count": 244,
     "metadata": {},
     "output_type": "execute_result"
    }
   ],
   "source": [
    "net_2 = set1_data['p2_net_pt'].sum()\n",
    "net_2_won = set1_data['p2_net_pt_won'].sum()\n",
    "net_2,net_2_won"
   ],
   "metadata": {
    "collapsed": false,
    "pycharm": {
     "name": "#%%\n"
    }
   }
  },
  {
   "cell_type": "markdown",
   "source": [
    "total unforced effort"
   ],
   "metadata": {
    "collapsed": false,
    "pycharm": {
     "name": "#%% md\n"
    }
   }
  },
  {
   "cell_type": "code",
   "execution_count": 246,
   "outputs": [
    {
     "data": {
      "text/plain": "6"
     },
     "execution_count": 246,
     "metadata": {},
     "output_type": "execute_result"
    }
   ],
   "source": [
    "p1_unf = set1_data['p1_unf_err'].sum()\n",
    "p1_unf"
   ],
   "metadata": {
    "collapsed": false,
    "pycharm": {
     "name": "#%%\n"
    }
   }
  },
  {
   "cell_type": "code",
   "execution_count": 247,
   "outputs": [
    {
     "data": {
      "text/plain": "8"
     },
     "execution_count": 247,
     "metadata": {},
     "output_type": "execute_result"
    }
   ],
   "source": [
    "p2_unf = set1_data['p2_unf_err'].sum()\n",
    "p2_unf"
   ],
   "metadata": {
    "collapsed": false,
    "pycharm": {
     "name": "#%%\n"
    }
   }
  },
  {
   "cell_type": "markdown",
   "source": [
    "total winner"
   ],
   "metadata": {
    "collapsed": false,
    "pycharm": {
     "name": "#%% md\n"
    }
   }
  },
  {
   "cell_type": "code",
   "execution_count": 248,
   "outputs": [
    {
     "data": {
      "text/plain": "9"
     },
     "execution_count": 248,
     "metadata": {},
     "output_type": "execute_result"
    }
   ],
   "source": [
    "p1_winner = set1_data['p1_winner'].sum()\n",
    "p1_winner"
   ],
   "metadata": {
    "collapsed": false,
    "pycharm": {
     "name": "#%%\n"
    }
   }
  },
  {
   "cell_type": "code",
   "execution_count": 249,
   "outputs": [
    {
     "data": {
      "text/plain": "9"
     },
     "execution_count": 249,
     "metadata": {},
     "output_type": "execute_result"
    }
   ],
   "source": [
    "p2_winner = set1_data['p2_winner'].sum()\n",
    "p2_winner"
   ],
   "metadata": {
    "collapsed": false,
    "pycharm": {
     "name": "#%%\n"
    }
   }
  },
  {
   "cell_type": "code",
   "execution_count": 23,
   "outputs": [],
   "source": [
    "a = pd.read_csv('./2023 w/2023-wimbledon-points.csv')"
   ],
   "metadata": {
    "collapsed": false,
    "pycharm": {
     "name": "#%%\n"
    }
   }
  },
  {
   "cell_type": "code",
   "execution_count": 24,
   "outputs": [],
   "source": [
    "a = a[a['match_id']=='2023-wimbledon-2701']"
   ],
   "metadata": {
    "collapsed": false,
    "pycharm": {
     "name": "#%%\n"
    }
   }
  },
  {
   "cell_type": "code",
   "execution_count": 25,
   "outputs": [],
   "source": [
    "a.to_csv('./2023 w/2023-wimbledon-2701.csv')"
   ],
   "metadata": {
    "collapsed": false,
    "pycharm": {
     "name": "#%%\n"
    }
   }
  },
  {
   "cell_type": "code",
   "execution_count": 68,
   "outputs": [],
   "source": [
    "data = pd.read_csv('Wimbledon_featured_matches_processed.csv')"
   ],
   "metadata": {
    "collapsed": false,
    "pycharm": {
     "name": "#%%\n"
    }
   }
  },
  {
   "cell_type": "code",
   "execution_count": 77,
   "outputs": [],
   "source": [
    "data = data[(data['player1']=='Carlos Alcaraz' ) | ( data['player2']=='Carlos Alcaraz')]"
   ],
   "metadata": {
    "collapsed": false,
    "pycharm": {
     "name": "#%%\n"
    }
   }
  },
  {
   "cell_type": "code",
   "execution_count": 79,
   "outputs": [],
   "source": [
    "matches = data['match_id'].unique()"
   ],
   "metadata": {
    "collapsed": false,
    "pycharm": {
     "name": "#%%\n"
    }
   }
  },
  {
   "cell_type": "code",
   "execution_count": 80,
   "outputs": [
    {
     "data": {
      "text/plain": "array([ 1, 17, 25, 29, 31], dtype=int64)"
     },
     "execution_count": 80,
     "metadata": {},
     "output_type": "execute_result"
    }
   ],
   "source": [
    "matches"
   ],
   "metadata": {
    "collapsed": false,
    "pycharm": {
     "name": "#%%\n"
    }
   }
  },
  {
   "cell_type": "code",
   "execution_count": null,
   "outputs": [],
   "source": [],
   "metadata": {
    "collapsed": false,
    "pycharm": {
     "name": "#%%\n"
    }
   }
  }
 ],
 "metadata": {
  "kernelspec": {
   "display_name": "Python 3",
   "language": "python",
   "name": "python3"
  },
  "language_info": {
   "codemirror_mode": {
    "name": "ipython",
    "version": 2
   },
   "file_extension": ".py",
   "mimetype": "text/x-python",
   "name": "python",
   "nbconvert_exporter": "python",
   "pygments_lexer": "ipython2",
   "version": "2.7.6"
  }
 },
 "nbformat": 4,
 "nbformat_minor": 0
}